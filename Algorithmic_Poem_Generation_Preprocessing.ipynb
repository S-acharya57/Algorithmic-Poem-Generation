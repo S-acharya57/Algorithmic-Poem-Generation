{
 "cells": [
  {
   "cell_type": "code",
   "execution_count": 4,
   "metadata": {
    "colab": {
     "base_uri": "https://localhost:8080/"
    },
    "id": "UZVxJub6TX3q",
    "outputId": "da0a3395-b11f-4a6e-b07e-ac10434d36fd"
   },
   "outputs": [
    {
     "name": "stdout",
     "output_type": "stream",
     "text": [
      "Mounted at /content/drive\n"
     ]
    }
   ],
   "source": [
    "from google.colab import drive\n",
    "drive.mount('/content/drive')"
   ]
  },
  {
   "cell_type": "code",
   "execution_count": 5,
   "metadata": {
    "id": "-j2D1vTfUGK0"
   },
   "outputs": [],
   "source": [
    "import numpy as np\n",
    "import pandas as pd\n",
    "import nltk\n",
    "import sklearn\n",
    "import string"
   ]
  },
  {
   "cell_type": "code",
   "execution_count": 6,
   "metadata": {
    "id": "6_j7ljuBT-Zj"
   },
   "outputs": [],
   "source": [
    "df_path = '/content/drive/MyDrive/poems_dataset.csv'"
   ]
  },
  {
   "cell_type": "code",
   "execution_count": 7,
   "metadata": {
    "colab": {
     "base_uri": "https://localhost:8080/"
    },
    "id": "0FpOJcdPT4UC",
    "outputId": "71c92371-d187-47b9-d00a-5fe20db82d6c"
   },
   "outputs": [
    {
     "name": "stdout",
     "output_type": "stream",
     "text": [
      "There are 144123 rows and 6 columns\n"
     ]
    }
   ],
   "source": [
    "df = pd.read_csv(df_path, nrows = None)\n",
    "df.dataframeName = 'poems_dataset.csv'\n",
    "nRow, nCol = df.shape\n",
    "print(f'There are {nRow} rows and {nCol} columns')\n"
   ]
  },
  {
   "cell_type": "code",
   "execution_count": 8,
   "metadata": {
    "colab": {
     "base_uri": "https://localhost:8080/",
     "height": 206
    },
    "id": "8x1bQHn00EdK",
    "outputId": "01e2eb22-bb8c-4018-eccb-c6ab76950e7d"
   },
   "outputs": [
    {
     "data": {
      "text/html": [
       "\n",
       "  <div id=\"df-c6752619-d7be-4d3f-a402-099da514bb1f\" class=\"colab-df-container\">\n",
       "    <div>\n",
       "<style scoped>\n",
       "    .dataframe tbody tr th:only-of-type {\n",
       "        vertical-align: middle;\n",
       "    }\n",
       "\n",
       "    .dataframe tbody tr th {\n",
       "        vertical-align: top;\n",
       "    }\n",
       "\n",
       "    .dataframe thead th {\n",
       "        text-align: right;\n",
       "    }\n",
       "</style>\n",
       "<table border=\"1\" class=\"dataframe\">\n",
       "  <thead>\n",
       "    <tr style=\"text-align: right;\">\n",
       "      <th></th>\n",
       "      <th>Unnamed: 0</th>\n",
       "      <th>0</th>\n",
       "      <th>1</th>\n",
       "      <th>2</th>\n",
       "      <th>source</th>\n",
       "      <th>hash</th>\n",
       "    </tr>\n",
       "  </thead>\n",
       "  <tbody>\n",
       "    <tr>\n",
       "      <th>0</th>\n",
       "      <td>0</td>\n",
       "      <td>fishing boats</td>\n",
       "      <td>colors of</td>\n",
       "      <td>the rainbow</td>\n",
       "      <td>tempslibres</td>\n",
       "      <td>FISHINGBOATSCOLORSOFTHERAINBOW</td>\n",
       "    </tr>\n",
       "    <tr>\n",
       "      <th>1</th>\n",
       "      <td>1</td>\n",
       "      <td>ash wednesday--</td>\n",
       "      <td>trying to remember</td>\n",
       "      <td>my dream</td>\n",
       "      <td>tempslibres</td>\n",
       "      <td>ASHWEDNESDAYTRYINGTOREMEMBERMYDREAM</td>\n",
       "    </tr>\n",
       "    <tr>\n",
       "      <th>2</th>\n",
       "      <td>2</td>\n",
       "      <td>snowy morn--</td>\n",
       "      <td>pouring another cup</td>\n",
       "      <td>of black coffee</td>\n",
       "      <td>tempslibres</td>\n",
       "      <td>SNOWYMORNPOURINGANOTHERCUPOFBLACKCOFFEE</td>\n",
       "    </tr>\n",
       "    <tr>\n",
       "      <th>3</th>\n",
       "      <td>3</td>\n",
       "      <td>shortest day</td>\n",
       "      <td>flames dance</td>\n",
       "      <td>in the oven</td>\n",
       "      <td>tempslibres</td>\n",
       "      <td>SHORTESTDAYFLAMESDANCEINTHEOVEN</td>\n",
       "    </tr>\n",
       "    <tr>\n",
       "      <th>4</th>\n",
       "      <td>4</td>\n",
       "      <td>haze</td>\n",
       "      <td>half the horse hidden</td>\n",
       "      <td>behind the house</td>\n",
       "      <td>tempslibres</td>\n",
       "      <td>HAZEHALFTHEHORSEHIDDENBEHINDTHEHOUSE</td>\n",
       "    </tr>\n",
       "  </tbody>\n",
       "</table>\n",
       "</div>\n",
       "    <div class=\"colab-df-buttons\">\n",
       "\n",
       "  <div class=\"colab-df-container\">\n",
       "    <button class=\"colab-df-convert\" onclick=\"convertToInteractive('df-c6752619-d7be-4d3f-a402-099da514bb1f')\"\n",
       "            title=\"Convert this dataframe to an interactive table.\"\n",
       "            style=\"display:none;\">\n",
       "\n",
       "  <svg xmlns=\"http://www.w3.org/2000/svg\" height=\"24px\" viewBox=\"0 -960 960 960\">\n",
       "    <path d=\"M120-120v-720h720v720H120Zm60-500h600v-160H180v160Zm220 220h160v-160H400v160Zm0 220h160v-160H400v160ZM180-400h160v-160H180v160Zm440 0h160v-160H620v160ZM180-180h160v-160H180v160Zm440 0h160v-160H620v160Z\"/>\n",
       "  </svg>\n",
       "    </button>\n",
       "\n",
       "  <style>\n",
       "    .colab-df-container {\n",
       "      display:flex;\n",
       "      gap: 12px;\n",
       "    }\n",
       "\n",
       "    .colab-df-convert {\n",
       "      background-color: #E8F0FE;\n",
       "      border: none;\n",
       "      border-radius: 50%;\n",
       "      cursor: pointer;\n",
       "      display: none;\n",
       "      fill: #1967D2;\n",
       "      height: 32px;\n",
       "      padding: 0 0 0 0;\n",
       "      width: 32px;\n",
       "    }\n",
       "\n",
       "    .colab-df-convert:hover {\n",
       "      background-color: #E2EBFA;\n",
       "      box-shadow: 0px 1px 2px rgba(60, 64, 67, 0.3), 0px 1px 3px 1px rgba(60, 64, 67, 0.15);\n",
       "      fill: #174EA6;\n",
       "    }\n",
       "\n",
       "    .colab-df-buttons div {\n",
       "      margin-bottom: 4px;\n",
       "    }\n",
       "\n",
       "    [theme=dark] .colab-df-convert {\n",
       "      background-color: #3B4455;\n",
       "      fill: #D2E3FC;\n",
       "    }\n",
       "\n",
       "    [theme=dark] .colab-df-convert:hover {\n",
       "      background-color: #434B5C;\n",
       "      box-shadow: 0px 1px 3px 1px rgba(0, 0, 0, 0.15);\n",
       "      filter: drop-shadow(0px 1px 2px rgba(0, 0, 0, 0.3));\n",
       "      fill: #FFFFFF;\n",
       "    }\n",
       "  </style>\n",
       "\n",
       "    <script>\n",
       "      const buttonEl =\n",
       "        document.querySelector('#df-c6752619-d7be-4d3f-a402-099da514bb1f button.colab-df-convert');\n",
       "      buttonEl.style.display =\n",
       "        google.colab.kernel.accessAllowed ? 'block' : 'none';\n",
       "\n",
       "      async function convertToInteractive(key) {\n",
       "        const element = document.querySelector('#df-c6752619-d7be-4d3f-a402-099da514bb1f');\n",
       "        const dataTable =\n",
       "          await google.colab.kernel.invokeFunction('convertToInteractive',\n",
       "                                                    [key], {});\n",
       "        if (!dataTable) return;\n",
       "\n",
       "        const docLinkHtml = 'Like what you see? Visit the ' +\n",
       "          '<a target=\"_blank\" href=https://colab.research.google.com/notebooks/data_table.ipynb>data table notebook</a>'\n",
       "          + ' to learn more about interactive tables.';\n",
       "        element.innerHTML = '';\n",
       "        dataTable['output_type'] = 'display_data';\n",
       "        await google.colab.output.renderOutput(dataTable, element);\n",
       "        const docLink = document.createElement('div');\n",
       "        docLink.innerHTML = docLinkHtml;\n",
       "        element.appendChild(docLink);\n",
       "      }\n",
       "    </script>\n",
       "  </div>\n",
       "\n",
       "\n",
       "<div id=\"df-924d5fbf-b8d3-47fc-be6b-a470b2c2351e\">\n",
       "  <button class=\"colab-df-quickchart\" onclick=\"quickchart('df-924d5fbf-b8d3-47fc-be6b-a470b2c2351e')\"\n",
       "            title=\"Suggest charts\"\n",
       "            style=\"display:none;\">\n",
       "\n",
       "<svg xmlns=\"http://www.w3.org/2000/svg\" height=\"24px\"viewBox=\"0 0 24 24\"\n",
       "     width=\"24px\">\n",
       "    <g>\n",
       "        <path d=\"M19 3H5c-1.1 0-2 .9-2 2v14c0 1.1.9 2 2 2h14c1.1 0 2-.9 2-2V5c0-1.1-.9-2-2-2zM9 17H7v-7h2v7zm4 0h-2V7h2v10zm4 0h-2v-4h2v4z\"/>\n",
       "    </g>\n",
       "</svg>\n",
       "  </button>\n",
       "\n",
       "<style>\n",
       "  .colab-df-quickchart {\n",
       "      --bg-color: #E8F0FE;\n",
       "      --fill-color: #1967D2;\n",
       "      --hover-bg-color: #E2EBFA;\n",
       "      --hover-fill-color: #174EA6;\n",
       "      --disabled-fill-color: #AAA;\n",
       "      --disabled-bg-color: #DDD;\n",
       "  }\n",
       "\n",
       "  [theme=dark] .colab-df-quickchart {\n",
       "      --bg-color: #3B4455;\n",
       "      --fill-color: #D2E3FC;\n",
       "      --hover-bg-color: #434B5C;\n",
       "      --hover-fill-color: #FFFFFF;\n",
       "      --disabled-bg-color: #3B4455;\n",
       "      --disabled-fill-color: #666;\n",
       "  }\n",
       "\n",
       "  .colab-df-quickchart {\n",
       "    background-color: var(--bg-color);\n",
       "    border: none;\n",
       "    border-radius: 50%;\n",
       "    cursor: pointer;\n",
       "    display: none;\n",
       "    fill: var(--fill-color);\n",
       "    height: 32px;\n",
       "    padding: 0;\n",
       "    width: 32px;\n",
       "  }\n",
       "\n",
       "  .colab-df-quickchart:hover {\n",
       "    background-color: var(--hover-bg-color);\n",
       "    box-shadow: 0 1px 2px rgba(60, 64, 67, 0.3), 0 1px 3px 1px rgba(60, 64, 67, 0.15);\n",
       "    fill: var(--button-hover-fill-color);\n",
       "  }\n",
       "\n",
       "  .colab-df-quickchart-complete:disabled,\n",
       "  .colab-df-quickchart-complete:disabled:hover {\n",
       "    background-color: var(--disabled-bg-color);\n",
       "    fill: var(--disabled-fill-color);\n",
       "    box-shadow: none;\n",
       "  }\n",
       "\n",
       "  .colab-df-spinner {\n",
       "    border: 2px solid var(--fill-color);\n",
       "    border-color: transparent;\n",
       "    border-bottom-color: var(--fill-color);\n",
       "    animation:\n",
       "      spin 1s steps(1) infinite;\n",
       "  }\n",
       "\n",
       "  @keyframes spin {\n",
       "    0% {\n",
       "      border-color: transparent;\n",
       "      border-bottom-color: var(--fill-color);\n",
       "      border-left-color: var(--fill-color);\n",
       "    }\n",
       "    20% {\n",
       "      border-color: transparent;\n",
       "      border-left-color: var(--fill-color);\n",
       "      border-top-color: var(--fill-color);\n",
       "    }\n",
       "    30% {\n",
       "      border-color: transparent;\n",
       "      border-left-color: var(--fill-color);\n",
       "      border-top-color: var(--fill-color);\n",
       "      border-right-color: var(--fill-color);\n",
       "    }\n",
       "    40% {\n",
       "      border-color: transparent;\n",
       "      border-right-color: var(--fill-color);\n",
       "      border-top-color: var(--fill-color);\n",
       "    }\n",
       "    60% {\n",
       "      border-color: transparent;\n",
       "      border-right-color: var(--fill-color);\n",
       "    }\n",
       "    80% {\n",
       "      border-color: transparent;\n",
       "      border-right-color: var(--fill-color);\n",
       "      border-bottom-color: var(--fill-color);\n",
       "    }\n",
       "    90% {\n",
       "      border-color: transparent;\n",
       "      border-bottom-color: var(--fill-color);\n",
       "    }\n",
       "  }\n",
       "</style>\n",
       "\n",
       "  <script>\n",
       "    async function quickchart(key) {\n",
       "      const quickchartButtonEl =\n",
       "        document.querySelector('#' + key + ' button');\n",
       "      quickchartButtonEl.disabled = true;  // To prevent multiple clicks.\n",
       "      quickchartButtonEl.classList.add('colab-df-spinner');\n",
       "      try {\n",
       "        const charts = await google.colab.kernel.invokeFunction(\n",
       "            'suggestCharts', [key], {});\n",
       "      } catch (error) {\n",
       "        console.error('Error during call to suggestCharts:', error);\n",
       "      }\n",
       "      quickchartButtonEl.classList.remove('colab-df-spinner');\n",
       "      quickchartButtonEl.classList.add('colab-df-quickchart-complete');\n",
       "    }\n",
       "    (() => {\n",
       "      let quickchartButtonEl =\n",
       "        document.querySelector('#df-924d5fbf-b8d3-47fc-be6b-a470b2c2351e button');\n",
       "      quickchartButtonEl.style.display =\n",
       "        google.colab.kernel.accessAllowed ? 'block' : 'none';\n",
       "    })();\n",
       "  </script>\n",
       "</div>\n",
       "    </div>\n",
       "  </div>\n"
      ],
      "text/plain": [
       "   Unnamed: 0                0                      1                 2  \\\n",
       "0           0    fishing boats              colors of       the rainbow   \n",
       "1           1  ash wednesday--    trying to remember           my dream   \n",
       "2           2     snowy morn--    pouring another cup   of black coffee   \n",
       "3           3     shortest day           flames dance       in the oven   \n",
       "4           4             haze  half the horse hidden  behind the house   \n",
       "\n",
       "        source                                     hash  \n",
       "0  tempslibres           FISHINGBOATSCOLORSOFTHERAINBOW  \n",
       "1  tempslibres      ASHWEDNESDAYTRYINGTOREMEMBERMYDREAM  \n",
       "2  tempslibres  SNOWYMORNPOURINGANOTHERCUPOFBLACKCOFFEE  \n",
       "3  tempslibres          SHORTESTDAYFLAMESDANCEINTHEOVEN  \n",
       "4  tempslibres     HAZEHALFTHEHORSEHIDDENBEHINDTHEHOUSE  "
      ]
     },
     "execution_count": 8,
     "metadata": {},
     "output_type": "execute_result"
    }
   ],
   "source": [
    "df.head()"
   ]
  },
  {
   "cell_type": "code",
   "execution_count": 9,
   "metadata": {
    "colab": {
     "base_uri": "https://localhost:8080/"
    },
    "id": "wK24Sq8LzyQw",
    "outputId": "bb517eee-18ff-46c3-ea0e-05f752ea26a9"
   },
   "outputs": [
    {
     "data": {
      "text/plain": [
       "(                 0                      1                 2       source  \\\n",
       " 0    fishing boats              colors of       the rainbow  tempslibres   \n",
       " 1  ash wednesday--    trying to remember           my dream  tempslibres   \n",
       " 2     snowy morn--    pouring another cup   of black coffee  tempslibres   \n",
       " 3     shortest day           flames dance       in the oven  tempslibres   \n",
       " 4             haze  half the horse hidden  behind the house  tempslibres   \n",
       " \n",
       "                                       hash  \n",
       " 0           FISHINGBOATSCOLORSOFTHERAINBOW  \n",
       " 1      ASHWEDNESDAYTRYINGTOREMEMBERMYDREAM  \n",
       " 2  SNOWYMORNPOURINGANOTHERCUPOFBLACKCOFFEE  \n",
       " 3          SHORTESTDAYFLAMESDANCEINTHEOVEN  \n",
       " 4     HAZEHALFTHEHORSEHIDDENBEHINDTHEHOUSE  ,\n",
       " (60000, 5))"
      ]
     },
     "execution_count": 9,
     "metadata": {},
     "output_type": "execute_result"
    }
   ],
   "source": [
    "\n",
    "# pre-process, drop the first column\n",
    "df = df.drop(columns=df.columns[0]) # remove unnecessary column\n",
    "df.drop(index=df.index[60000:],\n",
    "        axis=0,\n",
    "        inplace=True)\n",
    "df.head(), df.shape"
   ]
  },
  {
   "cell_type": "code",
   "execution_count": 10,
   "metadata": {
    "colab": {
     "base_uri": "https://localhost:8080/"
    },
    "id": "Te-Q3DTS07vx",
    "outputId": "844e3202-700c-4ec7-d97e-14e4e0ff2815"
   },
   "outputs": [
    {
     "data": {
      "text/plain": [
       "<bound method NDFrame.describe of                           0                             1  \\\n",
       "0             fishing boats                     colors of   \n",
       "1           ash wednesday--           trying to remember    \n",
       "2              snowy morn--           pouring another cup   \n",
       "3              shortest day                  flames dance   \n",
       "4                      haze         half the horse hidden   \n",
       "...                     ...                           ...   \n",
       "59995   I hate shopping for     presents with a passion I   \n",
       "59996      I really enjoyed   myself this weekend with my   \n",
       "59997      Have a Happy and    Safe Halloween from all of   \n",
       "59998  Merry Christmas Rach    Sending all my love to you   \n",
       "59999    And I'm going back   to school only for the hoes   \n",
       "\n",
       "                         2       source  \\\n",
       "0              the rainbow  tempslibres   \n",
       "1                 my dream  tempslibres   \n",
       "2          of black coffee  tempslibres   \n",
       "3              in the oven  tempslibres   \n",
       "4         behind the house  tempslibres   \n",
       "...                    ...          ...   \n",
       "59995  can't say it enough       twaiku   \n",
       "59996        second family       twaiku   \n",
       "59997       us at Mahaffey       twaiku   \n",
       "59998     today and always       twaiku   \n",
       "59999   and a class or two       twaiku   \n",
       "\n",
       "                                                    hash  \n",
       "0                         FISHINGBOATSCOLORSOFTHERAINBOW  \n",
       "1                    ASHWEDNESDAYTRYINGTOREMEMBERMYDREAM  \n",
       "2                SNOWYMORNPOURINGANOTHERCUPOFBLACKCOFFEE  \n",
       "3                        SHORTESTDAYFLAMESDANCEINTHEOVEN  \n",
       "4                   HAZEHALFTHEHORSEHIDDENBEHINDTHEHOUSE  \n",
       "...                                                  ...  \n",
       "59995  IHATESHOPPINGFORPRESENTSWITHAPASSIONICANTSAYIT...  \n",
       "59996  IREALLYENJOYEDMYSELFTHISWEEKENDWITHMYSECONDFAMILY  \n",
       "59997    HAVEAHAPPYANDSAFEHALLOWEENFROMALLOFUSATMAHAFFEY  \n",
       "59998  MERRYCHRISTMASRACHSENDINGALLMYLOVETOYOUTODAYAN...  \n",
       "59999  ANDIMGOINGBACKTOSCHOOLONLYFORTHEHOESANDACLASSO...  \n",
       "\n",
       "[60000 rows x 5 columns]>"
      ]
     },
     "execution_count": 10,
     "metadata": {},
     "output_type": "execute_result"
    }
   ],
   "source": [
    "df.describe"
   ]
  },
  {
   "cell_type": "code",
   "execution_count": 11,
   "metadata": {
    "colab": {
     "base_uri": "https://localhost:8080/"
    },
    "id": "G5nUd8ae09i8",
    "outputId": "79b8ef7b-2b95-4a98-b213-aa83a89f65fc"
   },
   "outputs": [
    {
     "name": "stdout",
     "output_type": "stream",
     "text": [
      "<class 'pandas.core.frame.DataFrame'>\n",
      "RangeIndex: 60000 entries, 0 to 59999\n",
      "Data columns (total 5 columns):\n",
      " #   Column  Non-Null Count  Dtype \n",
      "---  ------  --------------  ----- \n",
      " 0   0       60000 non-null  object\n",
      " 1   1       60000 non-null  object\n",
      " 2   2       59999 non-null  object\n",
      " 3   source  60000 non-null  object\n",
      " 4   hash    59999 non-null  object\n",
      "dtypes: object(5)\n",
      "memory usage: 2.3+ MB\n"
     ]
    }
   ],
   "source": [
    "df.info()"
   ]
  },
  {
   "cell_type": "code",
   "execution_count": 11,
   "metadata": {
    "id": "BY0jEyYk1Gol"
   },
   "outputs": [],
   "source": []
  },
  {
   "cell_type": "code",
   "execution_count": 12,
   "metadata": {
    "colab": {
     "base_uri": "https://localhost:8080/"
    },
    "id": "vyGgZ-wz1GmD",
    "outputId": "04769099-848a-4c09-ef0d-a4403fd110bc"
   },
   "outputs": [
    {
     "data": {
      "text/plain": [
       "<bound method NDFrame.describe of                           0                             1  \\\n",
       "0             fishing boats                     colors of   \n",
       "1           ash wednesday--           trying to remember    \n",
       "2              snowy morn--           pouring another cup   \n",
       "3              shortest day                  flames dance   \n",
       "4                      haze         half the horse hidden   \n",
       "...                     ...                           ...   \n",
       "59995   I hate shopping for     presents with a passion I   \n",
       "59996      I really enjoyed   myself this weekend with my   \n",
       "59997      Have a Happy and    Safe Halloween from all of   \n",
       "59998  Merry Christmas Rach    Sending all my love to you   \n",
       "59999    And I'm going back   to school only for the hoes   \n",
       "\n",
       "                         2       source  \\\n",
       "0              the rainbow  tempslibres   \n",
       "1                 my dream  tempslibres   \n",
       "2          of black coffee  tempslibres   \n",
       "3              in the oven  tempslibres   \n",
       "4         behind the house  tempslibres   \n",
       "...                    ...          ...   \n",
       "59995  can't say it enough       twaiku   \n",
       "59996        second family       twaiku   \n",
       "59997       us at Mahaffey       twaiku   \n",
       "59998     today and always       twaiku   \n",
       "59999   and a class or two       twaiku   \n",
       "\n",
       "                                                    hash  \n",
       "0                         FISHINGBOATSCOLORSOFTHERAINBOW  \n",
       "1                    ASHWEDNESDAYTRYINGTOREMEMBERMYDREAM  \n",
       "2                SNOWYMORNPOURINGANOTHERCUPOFBLACKCOFFEE  \n",
       "3                        SHORTESTDAYFLAMESDANCEINTHEOVEN  \n",
       "4                   HAZEHALFTHEHORSEHIDDENBEHINDTHEHOUSE  \n",
       "...                                                  ...  \n",
       "59995  IHATESHOPPINGFORPRESENTSWITHAPASSIONICANTSAYIT...  \n",
       "59996  IREALLYENJOYEDMYSELFTHISWEEKENDWITHMYSECONDFAMILY  \n",
       "59997    HAVEAHAPPYANDSAFEHALLOWEENFROMALLOFUSATMAHAFFEY  \n",
       "59998  MERRYCHRISTMASRACHSENDINGALLMYLOVETOYOUTODAYAN...  \n",
       "59999  ANDIMGOINGBACKTOSCHOOLONLYFORTHEHOESANDACLASSO...  \n",
       "\n",
       "[60000 rows x 5 columns]>"
      ]
     },
     "execution_count": 12,
     "metadata": {},
     "output_type": "execute_result"
    }
   ],
   "source": [
    "df.describe"
   ]
  },
  {
   "cell_type": "code",
   "execution_count": 38,
   "metadata": {
    "id": "Wj0XzVX31Gje"
   },
   "outputs": [],
   "source": [
    "from nltk.corpus import cmudict\n",
    "from nltk.tokenize import RegexpTokenizer\n",
    "from nltk import pos_tag\n",
    "from nltk.stem import PorterStemmer\n",
    "from nltk.stem import WordNetLemmatizer\n",
    "from nltk.corpus import stopwords\n",
    "from nltk.tokenize import word_tokenize"
   ]
  },
  {
   "cell_type": "code",
   "execution_count": 39,
   "metadata": {
    "colab": {
     "base_uri": "https://localhost:8080/"
    },
    "id": "3KjhVnPh1Gel",
    "outputId": "596f4ee0-33ce-4ee6-ad97-ba3188be1c2c"
   },
   "outputs": [
    {
     "name": "stderr",
     "output_type": "stream",
     "text": [
      "[nltk_data] Downloading package stopwords to /root/nltk_data...\n",
      "[nltk_data]   Package stopwords is already up-to-date!\n",
      "[nltk_data] Downloading package wordnet to /root/nltk_data...\n",
      "[nltk_data]   Package wordnet is already up-to-date!\n",
      "[nltk_data] Downloading package cmudict to /root/nltk_data...\n",
      "[nltk_data]   Package cmudict is already up-to-date!\n"
     ]
    },
    {
     "data": {
      "text/plain": [
       "True"
      ]
     },
     "execution_count": 39,
     "metadata": {},
     "output_type": "execute_result"
    }
   ],
   "source": [
    "nltk.download('stopwords')\n",
    "nltk.download('wordnet')\n",
    "nltk.download('cmudict')"
   ]
  },
  {
   "cell_type": "code",
   "execution_count": 40,
   "metadata": {
    "colab": {
     "base_uri": "https://localhost:8080/"
    },
    "id": "bcL_JUGB85px",
    "outputId": "074a1f3d-5260-4a26-b6d9-50c53958e1ee"
   },
   "outputs": [
    {
     "data": {
      "text/plain": [
       "123455"
      ]
     },
     "execution_count": 40,
     "metadata": {},
     "output_type": "execute_result"
    }
   ],
   "source": [
    "cmu_dictionary =cmudict.dict()\n",
    "words_not_found_in_cmu_dict = []\n",
    "len(cmu_dictionary)"
   ]
  },
  {
   "cell_type": "code",
   "execution_count": 40,
   "metadata": {
    "id": "A7widrm9-W0u"
   },
   "outputs": [],
   "source": []
  },
  {
   "cell_type": "code",
   "execution_count": 41,
   "metadata": {
    "colab": {
     "base_uri": "https://localhost:8080/"
    },
    "id": "6DK_bDzr9DZp",
    "outputId": "f0b24ade-7682-4755-f444-5ac55fc1848f"
   },
   "outputs": [
    {
     "name": "stderr",
     "output_type": "stream",
     "text": [
      "<ipython-input-41-0900b2f1010c>:3: SettingWithCopyWarning: \n",
      "A value is trying to be set on a copy of a slice from a DataFrame.\n",
      "Try using .loc[row_indexer,col_indexer] = value instead\n",
      "\n",
      "See the caveats in the documentation: https://pandas.pydata.org/pandas-docs/stable/user_guide/indexing.html#returning-a-view-versus-a-copy\n",
      "  df[columns] = df[columns].str.lower()\n"
     ]
    }
   ],
   "source": [
    "# Make haikus lowercase\n",
    "for columns in df[['0','1','2']]:\n",
    "    df[columns] = df[columns].str.lower()"
   ]
  },
  {
   "cell_type": "code",
   "execution_count": 42,
   "metadata": {
    "colab": {
     "base_uri": "https://localhost:8080/"
    },
    "id": "1fqMmxwu-igd",
    "outputId": "52195cac-6702-481b-8793-b47e4588f005"
   },
   "outputs": [
    {
     "data": {
      "text/plain": [
       "(26327, 5)"
      ]
     },
     "execution_count": 42,
     "metadata": {},
     "output_type": "execute_result"
    }
   ],
   "source": [
    "df.shape"
   ]
  },
  {
   "cell_type": "code",
   "execution_count": 43,
   "metadata": {
    "id": "A3BhkNE-3q5O"
   },
   "outputs": [],
   "source": [
    "def count_syllables_in_word(word):\n",
    "    # Attempt to find the number of syllables in a word\n",
    "    # Source: https://datascience.stackexchange.com/questions/23376/how-to-get-the-number-of-syllables-in-a-word\n",
    "    try:\n",
    "        # Check the number of syllables in the word using a dictionary\n",
    "        return [len(list(s for s in phonemes if s[-1].isdigit())) for phonemes in cmu_dictionary[word.lower()]][0]\n",
    "    except:\n",
    "        # If the word isn't found in the dictionary, mark it for future reference and return -1\n",
    "        words_not_found_in_cmu_dict.append(word)\n",
    "        return -1\n",
    "\n",
    "def check_syllable_count(poem):\n",
    "    # Check if a given poem has the correct syllable count per line\n",
    "    for line_index, sentence in enumerate(poem):\n",
    "        total_syllables = 0\n",
    "        try:\n",
    "            # Count syllables in each word of the sentence\n",
    "            for word in sentence.split():\n",
    "                syllables = count_syllables_in_word(word)\n",
    "                if syllables != -1:\n",
    "                    total_syllables += count_syllables_in_word(word)\n",
    "                else:\n",
    "                    return False  # If a word isn't found in the dictionary, return False\n",
    "            # Check syllable count based on the line index\n",
    "            if line_index == 0 or line_index == 2:\n",
    "                if total_syllables != 5:\n",
    "                    return False  # For the first and third lines, should have 5 syllables\n",
    "            elif line_index == 1:\n",
    "                if total_syllables != 7:\n",
    "                    return False  # For the second line, should have 7 syllables\n",
    "                    break\n",
    "        except:\n",
    "            return False  # Return False if any error occurs during processing\n",
    "    return True  # Return True if the poem has the correct syllable count per line\n"
   ]
  },
  {
   "cell_type": "code",
   "execution_count": 44,
   "metadata": {
    "colab": {
     "base_uri": "https://localhost:8080/"
    },
    "id": "opSBuTeO-t14",
    "outputId": "1021e5d8-011d-4644-e1a6-731dc5039d91"
   },
   "outputs": [
    {
     "data": {
      "text/plain": [
       "(26327, 3)"
      ]
     },
     "execution_count": 44,
     "metadata": {},
     "output_type": "execute_result"
    }
   ],
   "source": [
    "all_poems = df[['0','1','2']].to_numpy()\n",
    "all_poems.shape"
   ]
  },
  {
   "cell_type": "code",
   "execution_count": 45,
   "metadata": {
    "colab": {
     "base_uri": "https://localhost:8080/"
    },
    "id": "rAEDctG13sRj",
    "outputId": "88ec4b6e-6ff0-4503-ecdf-3642e7e53fb6"
   },
   "outputs": [
    {
     "data": {
      "text/plain": [
       "(                           0                             1  \\\n",
       " 24       visiting the graves     stronger the october wind   \n",
       " 141  profound blue of night    the resin and salt of pines   \n",
       " 142  scattered in the ditch   like tiny scraps of blue sky   \n",
       " 343   the smell of her hands     on the neck of the bottle   \n",
       " 435       christmas services    a cellular phone rings out   \n",
       " \n",
       "                        2       source  \\\n",
       " 24   at my grandparents'  tempslibres   \n",
       " 141  so far from the sea  tempslibres   \n",
       " 142  bits of plastic bag  tempslibres   \n",
       " 343    drinking greedily  tempslibres   \n",
       " 435     handel's messiah  tempslibres   \n",
       " \n",
       "                                                   hash  \n",
       " 24   VISITINGTHEGRAVESSTRONGERTHEOCTOBERWINDATMYGRA...  \n",
       " 141  PROFOUNDBLUEOFNIGHTTHERESINANDSALTOFPINESSOFAR...  \n",
       " 142  SCATTEREDINTHEDITCHLIKETINYSCRAPSOFBLUESKYBITS...  \n",
       " 343  THESMELLOFHERHANDSONTHENECKOFTHEBOTTLEDRINKING...  \n",
       " 435  CHRISTMASSERVICESACELLULARPHONERINGSOUTHANDELS...  ,\n",
       " (26327, 5))"
      ]
     },
     "execution_count": 45,
     "metadata": {},
     "output_type": "execute_result"
    }
   ],
   "source": [
    "# Remove poems that do not follow 5-7-5 syllable structure\n",
    "df = df[[check_syllable_count(poem) for poem in all_poems]]\n",
    "df.head(), df.shape"
   ]
  },
  {
   "cell_type": "code",
   "execution_count": 46,
   "metadata": {
    "colab": {
     "base_uri": "https://localhost:8080/",
     "height": 512
    },
    "id": "u-3OHJfm-AbM",
    "outputId": "91499808-a9f4-45ba-9174-84f047a9666e"
   },
   "outputs": [
    {
     "ename": "KeyError",
     "evalue": "ignored",
     "output_type": "error",
     "traceback": [
      "\u001b[0;31m---------------------------------------------------------------------------\u001b[0m",
      "\u001b[0;31mKeyError\u001b[0m                                  Traceback (most recent call last)",
      "\u001b[0;32m/usr/local/lib/python3.10/dist-packages/pandas/core/indexes/base.py\u001b[0m in \u001b[0;36mget_loc\u001b[0;34m(self, key, method, tolerance)\u001b[0m\n\u001b[1;32m   3801\u001b[0m             \u001b[0;32mtry\u001b[0m\u001b[0;34m:\u001b[0m\u001b[0;34m\u001b[0m\u001b[0;34m\u001b[0m\u001b[0m\n\u001b[0;32m-> 3802\u001b[0;31m                 \u001b[0;32mreturn\u001b[0m \u001b[0mself\u001b[0m\u001b[0;34m.\u001b[0m\u001b[0m_engine\u001b[0m\u001b[0;34m.\u001b[0m\u001b[0mget_loc\u001b[0m\u001b[0;34m(\u001b[0m\u001b[0mcasted_key\u001b[0m\u001b[0;34m)\u001b[0m\u001b[0;34m\u001b[0m\u001b[0;34m\u001b[0m\u001b[0m\n\u001b[0m\u001b[1;32m   3803\u001b[0m             \u001b[0;32mexcept\u001b[0m \u001b[0mKeyError\u001b[0m \u001b[0;32mas\u001b[0m \u001b[0merr\u001b[0m\u001b[0;34m:\u001b[0m\u001b[0;34m\u001b[0m\u001b[0;34m\u001b[0m\u001b[0m\n",
      "\u001b[0;32m/usr/local/lib/python3.10/dist-packages/pandas/_libs/index.pyx\u001b[0m in \u001b[0;36mpandas._libs.index.IndexEngine.get_loc\u001b[0;34m()\u001b[0m\n",
      "\u001b[0;32m/usr/local/lib/python3.10/dist-packages/pandas/_libs/index.pyx\u001b[0m in \u001b[0;36mpandas._libs.index.IndexEngine.get_loc\u001b[0;34m()\u001b[0m\n",
      "\u001b[0;32mpandas/_libs/hashtable_class_helper.pxi\u001b[0m in \u001b[0;36mpandas._libs.hashtable.Int64HashTable.get_item\u001b[0;34m()\u001b[0m\n",
      "\u001b[0;32mpandas/_libs/hashtable_class_helper.pxi\u001b[0m in \u001b[0;36mpandas._libs.hashtable.Int64HashTable.get_item\u001b[0;34m()\u001b[0m\n",
      "\u001b[0;31mKeyError\u001b[0m: 0",
      "\nThe above exception was the direct cause of the following exception:\n",
      "\u001b[0;31mKeyError\u001b[0m                                  Traceback (most recent call last)",
      "\u001b[0;32m<ipython-input-46-d65dadfc0f12>\u001b[0m in \u001b[0;36m<cell line: 6>\u001b[0;34m()\u001b[0m\n\u001b[1;32m      8\u001b[0m     \u001b[0;32mfor\u001b[0m \u001b[0mcol\u001b[0m \u001b[0;32min\u001b[0m \u001b[0mdf\u001b[0m\u001b[0;34m.\u001b[0m\u001b[0mcolumns\u001b[0m\u001b[0;34m[\u001b[0m\u001b[0;34m:\u001b[0m\u001b[0;34m-\u001b[0m\u001b[0;36m1\u001b[0m\u001b[0;34m]\u001b[0m\u001b[0;34m:\u001b[0m  \u001b[0;31m# Exclude the 'Source' column\u001b[0m\u001b[0;34m\u001b[0m\u001b[0;34m\u001b[0m\u001b[0m\n\u001b[1;32m      9\u001b[0m         \u001b[0;31m# Tokenize, remove stopwords, and apply stemming to each word\u001b[0m\u001b[0;34m\u001b[0m\u001b[0;34m\u001b[0m\u001b[0m\n\u001b[0;32m---> 10\u001b[0;31m         \u001b[0mwords\u001b[0m \u001b[0;34m=\u001b[0m \u001b[0mword_tokenize\u001b[0m\u001b[0;34m(\u001b[0m\u001b[0mdf\u001b[0m\u001b[0;34m[\u001b[0m\u001b[0mcol\u001b[0m\u001b[0;34m]\u001b[0m\u001b[0;34m[\u001b[0m\u001b[0mi\u001b[0m\u001b[0;34m]\u001b[0m\u001b[0;34m.\u001b[0m\u001b[0mlower\u001b[0m\u001b[0;34m(\u001b[0m\u001b[0;34m)\u001b[0m\u001b[0;34m)\u001b[0m\u001b[0;34m\u001b[0m\u001b[0;34m\u001b[0m\u001b[0m\n\u001b[0m\u001b[1;32m     11\u001b[0m         \u001b[0mwords\u001b[0m \u001b[0;34m=\u001b[0m \u001b[0;34m[\u001b[0m\u001b[0mps\u001b[0m\u001b[0;34m.\u001b[0m\u001b[0mstem\u001b[0m\u001b[0;34m(\u001b[0m\u001b[0mword\u001b[0m\u001b[0;34m)\u001b[0m \u001b[0;32mfor\u001b[0m \u001b[0mword\u001b[0m \u001b[0;32min\u001b[0m \u001b[0mwords\u001b[0m \u001b[0;32mif\u001b[0m \u001b[0mword\u001b[0m\u001b[0;34m.\u001b[0m\u001b[0misalpha\u001b[0m\u001b[0;34m(\u001b[0m\u001b[0;34m)\u001b[0m \u001b[0;32mand\u001b[0m \u001b[0mword\u001b[0m \u001b[0;32mnot\u001b[0m \u001b[0;32min\u001b[0m \u001b[0mstop_words\u001b[0m\u001b[0;34m]\u001b[0m\u001b[0;34m\u001b[0m\u001b[0;34m\u001b[0m\u001b[0m\n\u001b[1;32m     12\u001b[0m         \u001b[0mprocessed_line\u001b[0m\u001b[0;34m.\u001b[0m\u001b[0mextend\u001b[0m\u001b[0;34m(\u001b[0m\u001b[0mwords\u001b[0m\u001b[0;34m)\u001b[0m\u001b[0;34m\u001b[0m\u001b[0;34m\u001b[0m\u001b[0m\n",
      "\u001b[0;32m/usr/local/lib/python3.10/dist-packages/pandas/core/series.py\u001b[0m in \u001b[0;36m__getitem__\u001b[0;34m(self, key)\u001b[0m\n\u001b[1;32m    979\u001b[0m \u001b[0;34m\u001b[0m\u001b[0m\n\u001b[1;32m    980\u001b[0m         \u001b[0;32melif\u001b[0m \u001b[0mkey_is_scalar\u001b[0m\u001b[0;34m:\u001b[0m\u001b[0;34m\u001b[0m\u001b[0;34m\u001b[0m\u001b[0m\n\u001b[0;32m--> 981\u001b[0;31m             \u001b[0;32mreturn\u001b[0m \u001b[0mself\u001b[0m\u001b[0;34m.\u001b[0m\u001b[0m_get_value\u001b[0m\u001b[0;34m(\u001b[0m\u001b[0mkey\u001b[0m\u001b[0;34m)\u001b[0m\u001b[0;34m\u001b[0m\u001b[0;34m\u001b[0m\u001b[0m\n\u001b[0m\u001b[1;32m    982\u001b[0m \u001b[0;34m\u001b[0m\u001b[0m\n\u001b[1;32m    983\u001b[0m         \u001b[0;32mif\u001b[0m \u001b[0mis_hashable\u001b[0m\u001b[0;34m(\u001b[0m\u001b[0mkey\u001b[0m\u001b[0;34m)\u001b[0m\u001b[0;34m:\u001b[0m\u001b[0;34m\u001b[0m\u001b[0;34m\u001b[0m\u001b[0m\n",
      "\u001b[0;32m/usr/local/lib/python3.10/dist-packages/pandas/core/series.py\u001b[0m in \u001b[0;36m_get_value\u001b[0;34m(self, label, takeable)\u001b[0m\n\u001b[1;32m   1087\u001b[0m \u001b[0;34m\u001b[0m\u001b[0m\n\u001b[1;32m   1088\u001b[0m         \u001b[0;31m# Similar to Index.get_value, but we do not fall back to positional\u001b[0m\u001b[0;34m\u001b[0m\u001b[0;34m\u001b[0m\u001b[0m\n\u001b[0;32m-> 1089\u001b[0;31m         \u001b[0mloc\u001b[0m \u001b[0;34m=\u001b[0m \u001b[0mself\u001b[0m\u001b[0;34m.\u001b[0m\u001b[0mindex\u001b[0m\u001b[0;34m.\u001b[0m\u001b[0mget_loc\u001b[0m\u001b[0;34m(\u001b[0m\u001b[0mlabel\u001b[0m\u001b[0;34m)\u001b[0m\u001b[0;34m\u001b[0m\u001b[0;34m\u001b[0m\u001b[0m\n\u001b[0m\u001b[1;32m   1090\u001b[0m         \u001b[0;32mreturn\u001b[0m \u001b[0mself\u001b[0m\u001b[0;34m.\u001b[0m\u001b[0mindex\u001b[0m\u001b[0;34m.\u001b[0m\u001b[0m_get_values_for_loc\u001b[0m\u001b[0;34m(\u001b[0m\u001b[0mself\u001b[0m\u001b[0;34m,\u001b[0m \u001b[0mloc\u001b[0m\u001b[0;34m,\u001b[0m \u001b[0mlabel\u001b[0m\u001b[0;34m)\u001b[0m\u001b[0;34m\u001b[0m\u001b[0;34m\u001b[0m\u001b[0m\n\u001b[1;32m   1091\u001b[0m \u001b[0;34m\u001b[0m\u001b[0m\n",
      "\u001b[0;32m/usr/local/lib/python3.10/dist-packages/pandas/core/indexes/base.py\u001b[0m in \u001b[0;36mget_loc\u001b[0;34m(self, key, method, tolerance)\u001b[0m\n\u001b[1;32m   3802\u001b[0m                 \u001b[0;32mreturn\u001b[0m \u001b[0mself\u001b[0m\u001b[0;34m.\u001b[0m\u001b[0m_engine\u001b[0m\u001b[0;34m.\u001b[0m\u001b[0mget_loc\u001b[0m\u001b[0;34m(\u001b[0m\u001b[0mcasted_key\u001b[0m\u001b[0;34m)\u001b[0m\u001b[0;34m\u001b[0m\u001b[0;34m\u001b[0m\u001b[0m\n\u001b[1;32m   3803\u001b[0m             \u001b[0;32mexcept\u001b[0m \u001b[0mKeyError\u001b[0m \u001b[0;32mas\u001b[0m \u001b[0merr\u001b[0m\u001b[0;34m:\u001b[0m\u001b[0;34m\u001b[0m\u001b[0;34m\u001b[0m\u001b[0m\n\u001b[0;32m-> 3804\u001b[0;31m                 \u001b[0;32mraise\u001b[0m \u001b[0mKeyError\u001b[0m\u001b[0;34m(\u001b[0m\u001b[0mkey\u001b[0m\u001b[0;34m)\u001b[0m \u001b[0;32mfrom\u001b[0m \u001b[0merr\u001b[0m\u001b[0;34m\u001b[0m\u001b[0;34m\u001b[0m\u001b[0m\n\u001b[0m\u001b[1;32m   3805\u001b[0m             \u001b[0;32mexcept\u001b[0m \u001b[0mTypeError\u001b[0m\u001b[0;34m:\u001b[0m\u001b[0;34m\u001b[0m\u001b[0;34m\u001b[0m\u001b[0m\n\u001b[1;32m   3806\u001b[0m                 \u001b[0;31m# If we have a listlike key, _check_indexing_error will raise\u001b[0m\u001b[0;34m\u001b[0m\u001b[0;34m\u001b[0m\u001b[0m\n",
      "\u001b[0;31mKeyError\u001b[0m: 0"
     ]
    }
   ],
   "source": [
    "# Preprocessing the text data\n",
    "stop_words = set(stopwords.words('english'))\n",
    "ps = PorterStemmer()\n",
    "processed_text = []\n",
    "\n",
    "for i in range(len(df)):\n",
    "    processed_line = []\n",
    "    for col in df.columns[:-1]:  # Exclude the 'Source' column\n",
    "        # Tokenize, remove stopwords, and apply stemming to each word\n",
    "        words = word_tokenize(df[col][i].lower())\n",
    "        words = [ps.stem(word) for word in words if word.isalpha() and word not in stop_words]\n",
    "        processed_line.extend(words)\n",
    "    processed_text.append(processed_line)\n",
    "\n",
    "# Visualizing word frequency\n",
    "all_words = [word for line in processed_text for word in line]\n",
    "freq_dist = FreqDist(all_words)\n",
    "freq_dist.plot(20, cumulative=False)\n",
    "plt.show()"
   ]
  },
  {
   "cell_type": "code",
   "execution_count": null,
   "metadata": {
    "id": "B0_rruWK-AYl"
   },
   "outputs": [],
   "source": []
  },
  {
   "cell_type": "code",
   "execution_count": null,
   "metadata": {
    "id": "JJxyv1Ho-AWU"
   },
   "outputs": [],
   "source": []
  },
  {
   "cell_type": "code",
   "execution_count": null,
   "metadata": {
    "id": "gd626NHw-AUL"
   },
   "outputs": [],
   "source": []
  },
  {
   "cell_type": "code",
   "execution_count": null,
   "metadata": {
    "id": "hC_5IusV-AR8"
   },
   "outputs": [],
   "source": []
  }
 ],
 "metadata": {
  "colab": {
   "gpuType": "T4",
   "provenance": []
  },
  "kernelspec": {
   "display_name": "Python 3 (ipykernel)",
   "language": "python",
   "name": "python3"
  },
  "language_info": {
   "codemirror_mode": {
    "name": "ipython",
    "version": 3
   },
   "file_extension": ".py",
   "mimetype": "text/x-python",
   "name": "python",
   "nbconvert_exporter": "python",
   "pygments_lexer": "ipython3",
   "version": "3.11.4"
  }
 },
 "nbformat": 4,
 "nbformat_minor": 1
}
