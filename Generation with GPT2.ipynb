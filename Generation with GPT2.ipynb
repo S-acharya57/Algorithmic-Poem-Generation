{
 "cells": [
  {
   "cell_type": "code",
   "execution_count": 112,
   "id": "0c9e9602",
   "metadata": {},
   "outputs": [
    {
     "data": {
      "text/plain": [
       "Unnamed: 0            int64\n",
       "0                    object\n",
       "1                    object\n",
       "2                    object\n",
       "source               object\n",
       "hash                 object\n",
       "topic1              float64\n",
       "topic2              float64\n",
       "topic3              float64\n",
       "topic4              float64\n",
       "topic5              float64\n",
       "topic6              float64\n",
       "topic7              float64\n",
       "topic8              float64\n",
       "topic9              float64\n",
       "topic10             float64\n",
       "topic11             float64\n",
       "topic12             float64\n",
       "topic13             float64\n",
       "topic14             float64\n",
       "topic15             float64\n",
       "best topic           object\n",
       "best probability    float64\n",
       "dtype: object"
      ]
     },
     "execution_count": 112,
     "metadata": {},
     "output_type": "execute_result"
    }
   ],
   "source": [
    "import warnings\n",
    "\n",
    "warnings.filterwarnings('ignore', message= 'Series.__getitem__')\n",
    "warnings.filterwarnings('ignore', category = DeprecationWarning)\n",
    "import numpy as np\n",
    "import pandas as pd\n",
    "no_deprecation_warning=True\n",
    "df = pd.read_csv('dataset_topics_60k.csv')\n",
    "df.dtypes"
   ]
  },
  {
   "cell_type": "code",
   "execution_count": 98,
   "id": "5e8f0043",
   "metadata": {},
   "outputs": [
    {
     "name": "stdout",
     "output_type": "stream",
     "text": [
      "26327\n"
     ]
    },
    {
     "data": {
      "text/plain": [
       "[\"visiting the graves stronger the october wind at my grandparents'\",\n",
       " 'profound blue of night  the resin and salt of pines so far from the sea',\n",
       " 'scattered in the ditch  like tiny scraps of blue sky bits of plastic bag',\n",
       " 'the smell of her hands on the neck of the bottle drinking greedily',\n",
       " \"christmas services a cellular phone rings out handel's messiah\",\n",
       " \"gazing at the moon on a still summer's evening feast for mosquitoes\",\n",
       " 'my tea gets colder and the madeleine just sinks memory betrays',\n",
       " 'small green waves crashing against a porcelain rim morning tea tempest',\n",
       " 'red poppies growing between rows of white tombstones as in remembrance',\n",
       " 'in front of bronze doors they huddle against the cold the newly homeless']"
      ]
     },
     "execution_count": 98,
     "metadata": {},
     "output_type": "execute_result"
    }
   ],
   "source": [
    "# Function to create a string instance based on specific columns in a DataFrame\n",
    "def combine_columns_to_string(index):\n",
    "    # Ensuring the index is non-negative\n",
    "    assert index >= 0, 'Index cannot be a negative integer'\n",
    "\n",
    "    # Retrieving the row at the specified index\n",
    "    selected_row = df.iloc[index, :]\n",
    "\n",
    "    # Combining columns 0, 1, and 2 into a single string\n",
    "    # making the poem seem together at similar manner\n",
    "    combined_string = str(selected_row[1]) +' ' +str(selected_row[2]) + ' '+str(selected_row[3])\n",
    "\n",
    "    return combined_string\n",
    "\n",
    "# Applying the function to each row in the df\n",
    "document = [combine_columns_to_string(i) for i in range(len(df.iloc[:, 2]))]\n",
    "print(len(document))\n",
    "document[:10]"
   ]
  },
  {
   "cell_type": "code",
   "execution_count": 99,
   "id": "01e0fcb3",
   "metadata": {},
   "outputs": [
    {
     "data": {
      "text/plain": [
       "['visiting the graves stronger the october wind at my grandparents',\n",
       " 'profound blue of night  the resin and salt of pines so far from the sea',\n",
       " 'scattered in the ditch  like tiny scraps of blue sky bits of plastic bag',\n",
       " 'the smell of her hands on the neck of the bottle drinking greedily',\n",
       " 'christmas services a cellular phone rings out handels messiah']"
      ]
     },
     "execution_count": 99,
     "metadata": {},
     "output_type": "execute_result"
    }
   ],
   "source": [
    "#cleaning the document\n",
    "document = [string.replace('\\'', '') for string in document]\n",
    "document[:5]"
   ]
  },
  {
   "cell_type": "code",
   "execution_count": 100,
   "id": "d0b32cb5",
   "metadata": {},
   "outputs": [
    {
     "data": {
      "image/png": "[encoded data removed]",
      "text/plain": [
       "<Figure size 640x480 with 1 Axes>"
      ]
     },
     "metadata": {},
     "output_type": "display_data"
    }
   ],
   "source": [
    "import matplotlib.pyplot as plt\n",
    "\n",
    "# For sequence lengths, assuming 'text' column contains sequences\n",
    "sequence_lengths = [len(seq) for seq in document]\n",
    "plt.hist(sequence_lengths, bins=30)\n",
    "plt.xlabel('Sequence Length')\n",
    "plt.ylabel('Frequency')\n",
    "plt.title('Distribution of Sequence Lengths')\n",
    "plt.show()"
   ]
  },
  {
   "cell_type": "code",
   "execution_count": null,
   "id": "3cfc0744",
   "metadata": {},
   "outputs": [],
   "source": []
  },
  {
   "cell_type": "code",
   "execution_count": null,
   "id": "08f50d87",
   "metadata": {},
   "outputs": [],
   "source": []
  },
  {
   "cell_type": "code",
   "execution_count": 101,
   "id": "12c85ae7",
   "metadata": {},
   "outputs": [],
   "source": [
    "import random\n",
    "import os\n",
    "\n",
    "# time related modules\n",
    "import time\n",
    "import datetime\n",
    "import torch\n",
    "\n",
    "from transformers import GPT2Tokenizer, GPT2LMHeadModel, GPT2Config, AdamW, get_linear_schedule_with_warmup\n",
    "from torch.utils.data import Dataset, random_split, DataLoader, RandomSampler, SequentialSampler\n"
   ]
  },
  {
   "cell_type": "code",
   "execution_count": 102,
   "id": "96753be6",
   "metadata": {},
   "outputs": [],
   "source": [
    "RAND_SEED = 73\n",
    "BATCH_SIZE = 2\n",
    "EPOCHS = 1\n",
    "MAX_LEN = 60"
   ]
  },
  {
   "cell_type": "code",
   "execution_count": 103,
   "id": "192f8256",
   "metadata": {},
   "outputs": [],
   "source": [
    "class PoemDataset(Dataset):\n",
    "    \"\"\"\n",
    "    Custom Dataset subclass.\n",
    "    The dataset reads a list of strings (data), tokenizes them using a pre-specified tokenizer, and returns\n",
    "    their corresponding input_ids and attention_masks as tensors.\n",
    "    \n",
    "    :param data: List of strings to tokenize.\n",
    "    :param tokenizer: Tokenizer object to be used to tokenize data.\n",
    "    :param gpt2_type: (Optional) Type of GPT-2 used.\n",
    "    :param max_length: (Optional) Maximum length of the sequences.\n",
    "    \"\"\"\n",
    "    def __init__(self, data, tokenizer, gpt2_type='gpt2', max_length=MAX_LEN):\n",
    "        self.tokenizer = tokenizer\n",
    "        self.input_ids = []\n",
    "        self.attn_masks = []\n",
    "        \n",
    "        # Iterate over data, tokenize each sequence and append its input_id and attention_mask to respective lists\n",
    "        for i in data:\n",
    "            encodings_dict = tokenizer('<BOS>' + i + '<EOS>',\n",
    "                                     truncation=True,\n",
    "                                     max_length=max_length,\n",
    "                                     padding='max_length')\n",
    "\n",
    "            self.input_ids.append(torch.tensor(encodings_dict['input_ids']))\n",
    "            self.attn_masks.append(torch.tensor(encodings_dict['attention_mask']))\n",
    "\n",
    "    def __len__(self):\n",
    "        \"\"\"\n",
    "        Returns the number of sequences in data.\n",
    "        \n",
    "        :return: number of sequences in data\n",
    "        \"\"\"\n",
    "        return len(self.input_ids)\n",
    "    \n",
    "    def __getitem__(self, idx):\n",
    "        \"\"\"\n",
    "        Returns the input_id and attention_mask tensors of the sequence at the provided index.\n",
    "        \n",
    "        :param idx: index to access\n",
    "        :return: tensors of input_id and attention_mask of the sequence at the provided index.\n",
    "        \"\"\"\n",
    "        return self.input_ids[idx], self.attn_masks[idx]"
   ]
  },
  {
   "cell_type": "code",
   "execution_count": 104,
   "id": "97c9c0eb",
   "metadata": {},
   "outputs": [],
   "source": [
    "tokenizer = GPT2Tokenizer.from_pretrained('gpt2')\n",
    "special_tokens_dict = {\n",
    "    'bos_token': '<BOS>', \n",
    "    'eos_token': '<EOS>', \n",
    "    'pad_token': '<PAD>'}\n",
    "num_added_tokens = tokenizer.add_special_tokens(special_tokens_dict)"
   ]
  },
  {
   "cell_type": "code",
   "execution_count": 105,
   "id": "e2a1bd78",
   "metadata": {},
   "outputs": [
    {
     "data": {
      "text/plain": [
       "<__main__.PoemDataset at 0x1fa7f598ad0>"
      ]
     },
     "execution_count": 105,
     "metadata": {},
     "output_type": "execute_result"
    }
   ],
   "source": [
    "poem_dataset = PoemDataset(document, tokenizer, max_length=MAX_LEN)\n",
    "poem_dataset"
   ]
  },
  {
   "cell_type": "code",
   "execution_count": 106,
   "id": "fbeb073f",
   "metadata": {},
   "outputs": [],
   "source": [
    "def train_val_split(split, dataset):\n",
    "    # calculate the size of the training dataset\n",
    "    train_size = int(split * len(dataset)) \n",
    "    # the remaining data will be used for validation\n",
    "    val_size = len(dataset) - train_size    \n",
    "    return train_size, val_size\n",
    "\n",
    "\n",
    "poem_train_size, poem_val_size = train_val_split(0.8, poem_dataset)\n",
    "\n",
    "poem_train_dataset, poem_val_dataset = random_split(poem_dataset,[poem_train_size, poem_val_size])"
   ]
  },
  {
   "cell_type": "code",
   "execution_count": 107,
   "id": "2ce1f0ae",
   "metadata": {},
   "outputs": [
    {
     "data": {
      "text/plain": [
       "(<torch.utils.data.dataset.Subset at 0x1fb09ec8fd0>,\n",
       " <torch.utils.data.dataset.Subset at 0x1fa624f4450>)"
      ]
     },
     "execution_count": 107,
     "metadata": {},
     "output_type": "execute_result"
    }
   ],
   "source": [
    "poem_train_dataset, poem_val_dataset"
   ]
  },
  {
   "cell_type": "code",
   "execution_count": 108,
   "id": "288db5c4",
   "metadata": {},
   "outputs": [
    {
     "data": {
      "text/plain": [
       "<torch._C.Generator at 0x1fa0aa76850>"
      ]
     },
     "execution_count": 108,
     "metadata": {},
     "output_type": "execute_result"
    }
   ],
   "source": [
    "torch.cuda.manual_seed_all(RAND_SEED)\n",
    "random.seed(RAND_SEED)\n",
    "np.random.seed(RAND_SEED)\n",
    "torch.manual_seed(RAND_SEED)"
   ]
  },
  {
   "cell_type": "code",
   "execution_count": 109,
   "id": "de613b1a",
   "metadata": {},
   "outputs": [],
   "source": [
    "poem_train_dataloader = DataLoader(poem_train_dataset,\n",
    "                              sampler=RandomSampler(poem_train_dataset),\n",
    "                              batch_size=BATCH_SIZE)\n",
    "\n",
    "poem_val_dataloader = DataLoader(poem_val_dataset,\n",
    "                            sampler=SequentialSampler(poem_val_dataset),\n",
    "                            batch_size=BATCH_SIZE)"
   ]
  },
  {
   "cell_type": "code",
   "execution_count": 110,
   "id": "8948f1cc",
   "metadata": {},
   "outputs": [],
   "source": [
    "# helper function for logging time\n",
    "def format_time(elapsed):\n",
    "    return str(datetime.timedelta(seconds=int(round((elapsed)))))\n",
    "\n",
    "# hyperparameters\n",
    "learning_rate = 1e-3\n",
    "eps = 1e-8\n",
    "warmup_steps = 50\n",
    "device = torch.device('cuda')"
   ]
  },
  {
   "cell_type": "code",
   "execution_count": 113,
   "id": "acc69d7a",
   "metadata": {},
   "outputs": [
    {
     "name": "stderr",
     "output_type": "stream",
     "text": [
      "You are resizing the embedding layer without providing a `pad_to_multiple_of` parameter. This means that the new embeding dimension will be 50260. This might induce some performance reduction as *Tensor Cores* will not be available. For more details  about this, or help on choosing the correct value for resizing, refer to this guide: https://docs.nvidia.com/deeplearning/performance/dl-performance-matrix-multiplication/index.html#requirements-tc\n",
      "C:\\Users\\OMEN\\anaconda3\\envs\\fastaging\\Lib\\site-packages\\transformers\\optimization.py:411: FutureWarning: This implementation of AdamW is deprecated and will be removed in a future version. Use the PyTorch implementation torch.optim.AdamW instead, or set `no_deprecation_warning=True` to disable this warning\n",
      "  warnings.warn(\n"
     ]
    }
   ],
   "source": [
    "configuration = GPT2Config(vocab_size=len(tokenizer), n_positions=MAX_LEN).from_pretrained('gpt2', output_hidden_states=True)\n",
    "model = GPT2LMHeadModel.from_pretrained('gpt2', config=configuration)\n",
    "model.resize_token_embeddings(len(tokenizer))\n",
    "model.cuda()\n",
    "optimizer = AdamW(model.parameters(), lr=learning_rate, eps=eps)\n",
    "total_steps = len(poem_train_dataloader) * EPOCHS\n",
    "scheduler = get_linear_schedule_with_warmup(optimizer,\n",
    "                                            num_warmup_steps=warmup_steps,\n",
    "                                            num_training_steps=total_steps)\n",
    "\n",
    "\n",
    "# Move the model to the specific device (GPU/CPU).\n",
    "model = model.to(device)"
   ]
  },
  {
   "cell_type": "code",
   "execution_count": 92,
   "id": "32f4115f",
   "metadata": {},
   "outputs": [
    {
     "data": {
      "text/plain": [
       "GPT2LMHeadModel(\n",
       "  (transformer): GPT2Model(\n",
       "    (wte): Embedding(50260, 768)\n",
       "    (wpe): Embedding(1024, 768)\n",
       "    (drop): Dropout(p=0.1, inplace=False)\n",
       "    (h): ModuleList(\n",
       "      (0-11): 12 x GPT2Block(\n",
       "        (ln_1): LayerNorm((768,), eps=1e-05, elementwise_affine=True)\n",
       "        (attn): GPT2Attention(\n",
       "          (c_attn): Conv1D()\n",
       "          (c_proj): Conv1D()\n",
       "          (attn_dropout): Dropout(p=0.1, inplace=False)\n",
       "          (resid_dropout): Dropout(p=0.1, inplace=False)\n",
       "        )\n",
       "        (ln_2): LayerNorm((768,), eps=1e-05, elementwise_affine=True)\n",
       "        (mlp): GPT2MLP(\n",
       "          (c_fc): Conv1D()\n",
       "          (c_proj): Conv1D()\n",
       "          (act): NewGELUActivation()\n",
       "          (dropout): Dropout(p=0.1, inplace=False)\n",
       "        )\n",
       "      )\n",
       "    )\n",
       "    (ln_f): LayerNorm((768,), eps=1e-05, elementwise_affine=True)\n",
       "  )\n",
       "  (lm_head): Linear(in_features=768, out_features=50260, bias=False)\n",
       ")"
      ]
     },
     "execution_count": 92,
     "metadata": {},
     "output_type": "execute_result"
    }
   ],
   "source": [
    "model"
   ]
  },
  {
   "cell_type": "code",
   "execution_count": 70,
   "id": "acbece0d",
   "metadata": {},
   "outputs": [
    {
     "data": {
      "text/plain": [
       "10531"
      ]
     },
     "execution_count": 70,
     "metadata": {},
     "output_type": "execute_result"
    }
   ],
   "source": [
    "len(poem_train_dataloader)"
   ]
  },
  {
   "cell_type": "code",
   "execution_count": 71,
   "id": "f2259e02",
   "metadata": {},
   "outputs": [
    {
     "name": "stdout",
     "output_type": "stream",
     "text": [
      "Epoch 1 of 1\n",
      "Step: 0, Loss: 1.4802\n",
      "Step: 50, Loss: 1.3811\n",
      "Step: 100, Loss: 1.6934\n",
      "Step: 150, Loss: 1.4487\n",
      "Step: 200, Loss: 1.3658\n",
      "Step: 250, Loss: 1.2143\n",
      "Step: 300, Loss: 1.2418\n",
      "Step: 350, Loss: 1.5410\n",
      "Step: 400, Loss: 1.7481\n",
      "Step: 450, Loss: 1.7697\n",
      "Step: 500, Loss: 1.5320\n",
      "Step: 550, Loss: 1.5114\n",
      "Step: 600, Loss: 1.3150\n",
      "Step: 650, Loss: 1.5479\n",
      "Step: 700, Loss: 1.2838\n",
      "Step: 750, Loss: 1.4298\n",
      "Step: 800, Loss: 1.2181\n",
      "Step: 850, Loss: 1.2481\n",
      "Step: 900, Loss: 1.1354\n",
      "Step: 950, Loss: 1.3602\n",
      "Step: 1000, Loss: 1.6107\n",
      "Step: 1050, Loss: 1.1027\n",
      "Step: 1100, Loss: 1.3481\n",
      "Step: 1150, Loss: 1.2878\n",
      "Step: 1200, Loss: 1.2480\n",
      "Step: 1250, Loss: 1.6056\n",
      "Step: 1300, Loss: 1.2559\n",
      "Step: 1350, Loss: 1.6447\n",
      "Step: 1400, Loss: 1.2484\n",
      "Step: 1450, Loss: 1.5100\n",
      "Step: 1500, Loss: 1.5679\n",
      "Step: 1550, Loss: 1.2634\n",
      "Step: 1600, Loss: 1.5001\n",
      "Step: 1650, Loss: 1.5291\n",
      "Step: 1700, Loss: 1.0583\n",
      "Step: 1750, Loss: 1.0319\n",
      "Step: 1800, Loss: 1.3905\n",
      "Step: 1850, Loss: 1.3478\n",
      "Step: 1900, Loss: 1.2322\n",
      "Step: 1950, Loss: 1.2376\n",
      "Step: 2000, Loss: 1.3683\n",
      "Step: 2050, Loss: 1.0820\n",
      "Step: 2100, Loss: 1.4091\n",
      "Step: 2150, Loss: 0.8974\n",
      "Step: 2200, Loss: 1.2866\n",
      "Step: 2250, Loss: 1.3414\n",
      "Step: 2300, Loss: 1.4686\n",
      "Step: 2350, Loss: 1.0874\n",
      "Step: 2400, Loss: 1.6655\n",
      "Step: 2450, Loss: 1.4323\n",
      "Step: 2500, Loss: 1.4152\n",
      "Step: 2550, Loss: 1.4668\n",
      "Step: 2600, Loss: 1.2503\n",
      "Step: 2650, Loss: 1.4174\n",
      "Step: 2700, Loss: 1.1245\n",
      "Step: 2750, Loss: 1.3853\n",
      "Step: 2800, Loss: 1.7126\n",
      "Step: 2850, Loss: 1.3519\n",
      "Step: 2900, Loss: 1.3781\n",
      "Step: 2950, Loss: 1.3887\n",
      "Step: 3000, Loss: 1.4532\n",
      "Step: 3050, Loss: 1.0932\n",
      "Step: 3100, Loss: 1.3240\n",
      "Step: 3150, Loss: 1.4015\n",
      "Step: 3200, Loss: 1.1661\n",
      "Step: 3250, Loss: 1.0119\n",
      "Step: 3300, Loss: 1.3326\n",
      "Step: 3350, Loss: 0.7108\n",
      "Step: 3400, Loss: 1.0435\n",
      "Step: 3450, Loss: 1.1215\n",
      "Step: 3500, Loss: 1.1762\n",
      "Step: 3550, Loss: 1.2152\n",
      "Step: 3600, Loss: 1.4594\n",
      "Step: 3650, Loss: 1.4194\n",
      "Step: 3700, Loss: 1.4715\n",
      "Step: 3750, Loss: 0.9780\n",
      "Step: 3800, Loss: 1.4045\n",
      "Step: 3850, Loss: 1.5412\n",
      "Step: 3900, Loss: 1.2956\n",
      "Step: 3950, Loss: 1.2235\n",
      "Step: 4000, Loss: 1.2053\n",
      "Step: 4050, Loss: 1.3512\n",
      "Step: 4100, Loss: 1.3697\n",
      "Step: 4150, Loss: 1.3900\n",
      "Step: 4200, Loss: 1.1390\n",
      "Step: 4250, Loss: 1.1207\n",
      "Step: 4300, Loss: 1.5132\n",
      "Step: 4350, Loss: 1.4229\n",
      "Step: 4400, Loss: 1.1875\n",
      "Step: 4450, Loss: 1.1389\n",
      "Step: 4500, Loss: 1.5127\n",
      "Step: 4550, Loss: 1.2451\n",
      "Step: 4600, Loss: 1.2530\n",
      "Step: 4650, Loss: 1.2079\n",
      "Step: 4700, Loss: 1.1930\n",
      "Step: 4750, Loss: 1.3615\n",
      "Step: 4800, Loss: 1.1974\n",
      "Step: 4850, Loss: 1.1072\n",
      "Step: 4900, Loss: 1.1934\n",
      "Step: 4950, Loss: 1.3192\n",
      "Step: 5000, Loss: 1.2899\n",
      "Step: 5050, Loss: 1.5267\n",
      "Step: 5100, Loss: 1.3195\n",
      "Step: 5150, Loss: 1.2609\n",
      "Step: 5200, Loss: 1.0554\n",
      "Step: 5250, Loss: 1.6834\n",
      "Step: 5300, Loss: 1.2442\n",
      "Step: 5350, Loss: 1.7276\n",
      "Step: 5400, Loss: 1.0054\n",
      "Step: 5450, Loss: 1.3385\n",
      "Step: 5500, Loss: 1.1067\n",
      "Step: 5550, Loss: 1.5664\n",
      "Step: 5600, Loss: 0.8995\n",
      "Step: 5650, Loss: 0.8544\n",
      "Step: 5700, Loss: 1.1690\n",
      "Step: 5750, Loss: 1.1217\n",
      "Step: 5800, Loss: 1.4598\n",
      "Step: 5850, Loss: 1.4031\n",
      "Step: 5900, Loss: 1.0187\n",
      "Step: 5950, Loss: 1.1247\n",
      "Step: 6000, Loss: 1.4370\n",
      "Step: 6050, Loss: 1.4054\n",
      "Step: 6100, Loss: 1.1122\n",
      "Step: 6150, Loss: 0.9056\n",
      "Step: 6200, Loss: 1.7603\n",
      "Step: 6250, Loss: 1.2881\n",
      "Step: 6300, Loss: 1.6681\n",
      "Step: 6350, Loss: 1.3284\n",
      "Step: 6400, Loss: 1.3002\n",
      "Step: 6450, Loss: 1.6657\n",
      "Step: 6500, Loss: 1.2527\n",
      "Step: 6550, Loss: 1.3375\n",
      "Step: 6600, Loss: 1.5123\n",
      "Step: 6650, Loss: 1.3079\n",
      "Step: 6700, Loss: 1.1216\n",
      "Step: 6750, Loss: 1.3775\n",
      "Step: 6800, Loss: 1.5546\n",
      "Step: 6850, Loss: 1.0673\n",
      "Step: 6900, Loss: 1.3585\n",
      "Step: 6950, Loss: 1.1639\n",
      "Step: 7000, Loss: 1.3194\n",
      "Step: 7050, Loss: 1.2452\n",
      "Step: 7100, Loss: 1.1776\n",
      "Step: 7150, Loss: 1.0703\n",
      "Step: 7200, Loss: 1.1862\n",
      "Step: 7250, Loss: 1.0478\n",
      "Step: 7300, Loss: 1.2565\n",
      "Step: 7350, Loss: 1.3069\n",
      "Step: 7400, Loss: 1.1301\n",
      "Step: 7450, Loss: 1.1328\n",
      "Step: 7500, Loss: 1.0168\n",
      "Step: 7550, Loss: 1.0322\n",
      "Step: 7600, Loss: 1.1552\n",
      "Step: 7650, Loss: 1.4372\n",
      "Step: 7700, Loss: 1.2921\n",
      "Step: 7750, Loss: 1.2042\n",
      "Step: 7800, Loss: 0.9530\n",
      "Step: 7850, Loss: 1.5968\n",
      "Step: 7900, Loss: 1.3033\n",
      "Step: 7950, Loss: 1.2538\n",
      "Step: 8000, Loss: 1.2369\n",
      "Step: 8050, Loss: 1.0667\n",
      "Step: 8100, Loss: 1.7192\n",
      "Step: 8150, Loss: 1.2174\n",
      "Step: 8200, Loss: 1.3334\n",
      "Step: 8250, Loss: 1.2231\n",
      "Step: 8300, Loss: 1.6440\n",
      "Step: 8350, Loss: 1.4087\n",
      "Step: 8400, Loss: 1.2761\n",
      "Step: 8450, Loss: 1.2267\n",
      "Step: 8500, Loss: 1.1354\n",
      "Step: 8550, Loss: 1.4807\n",
      "Step: 8600, Loss: 1.1480\n",
      "Step: 8650, Loss: 1.2684\n",
      "Step: 8700, Loss: 0.8691\n",
      "Step: 8750, Loss: 0.9656\n",
      "Step: 8800, Loss: 1.1492\n",
      "Step: 8850, Loss: 1.3633\n",
      "Step: 8900, Loss: 1.3086\n",
      "Step: 8950, Loss: 0.7046\n",
      "Step: 9000, Loss: 0.8835\n",
      "Step: 9050, Loss: 1.3591\n",
      "Step: 9100, Loss: 1.2301\n",
      "Step: 9150, Loss: 1.2027\n",
      "Step: 9200, Loss: 1.2532\n",
      "Step: 9250, Loss: 0.9947\n",
      "Step: 9300, Loss: 1.1016\n",
      "Step: 9350, Loss: 1.0449\n",
      "Step: 9400, Loss: 1.4581\n",
      "Step: 9450, Loss: 1.3718\n",
      "Step: 9500, Loss: 1.2252\n",
      "Step: 9550, Loss: 1.1167\n",
      "Step: 9600, Loss: 1.2046\n",
      "Step: 9650, Loss: 1.1182\n",
      "Step: 9700, Loss: 1.1489\n",
      "Step: 9750, Loss: 1.0214\n",
      "Step: 9800, Loss: 0.8359\n",
      "Step: 9850, Loss: 0.9672\n",
      "Step: 9900, Loss: 1.0245\n",
      "Step: 9950, Loss: 1.2408\n",
      "Step: 10000, Loss: 1.2168\n",
      "Step: 10050, Loss: 1.3002\n",
      "Step: 10100, Loss: 1.0754\n",
      "Step: 10150, Loss: 0.9574\n",
      "Step: 10200, Loss: 1.1564\n",
      "Step: 10250, Loss: 1.0060\n",
      "Step: 10300, Loss: 1.4040\n",
      "Step: 10350, Loss: 1.3038\n",
      "Step: 10400, Loss: 0.9232\n",
      "Step: 10450, Loss: 0.9338\n",
      "Step: 10500, Loss: 0.9455\n",
      "Average Training Loss: 1.2840380707354007. Epoch Training Time: 0:11:37\n",
      "Average Validation Loss: 1.1940477743965565\n",
      "Total Training Time: 0:12:12\n"
     ]
    }
   ],
   "source": [
    "# Initialize an empty list to hold the losses during training\n",
    "losses = []\n",
    "valid_losses =[]\n",
    "start_time = time.time()\n",
    "\n",
    "for epoch_i in range(0, EPOCHS):\n",
    "\n",
    "    print(f'Epoch {epoch_i + 1} of {EPOCHS}')\n",
    "\n",
    "    t0 = time.time()\n",
    "    \n",
    "    # Reset the total training loss for this epoch\n",
    "    total_train_loss = 0\n",
    "\n",
    "    model.train()\n",
    "\n",
    "    # Loop over each batch from the training data loader\n",
    "    for step, batch in enumerate(poem_train_dataloader):\n",
    "\n",
    "        b_input_ids = batch[0].to(device)\n",
    "        b_labels = batch[0].to(device)\n",
    "        b_masks = batch[1].to(device)\n",
    "\n",
    "        # Clear out the gradients from the previous training step\n",
    "        model.zero_grad()        \n",
    "\n",
    "        outputs = model(b_input_ids, labels=b_labels, attention_mask=b_masks, token_type_ids=None)\n",
    "\n",
    "        # Extract the loss from the outputs\n",
    "        loss = outputs[0]  \n",
    "\n",
    "        # Extract and accumulate the total loss\n",
    "        batch_loss = loss.item()\n",
    "        total_train_loss += batch_loss\n",
    "\n",
    "        loss.backward()\n",
    "\n",
    "        optimizer.step()\n",
    "\n",
    "        # Update the learning rate\n",
    "        scheduler.step()\n",
    "\n",
    "        losses.append(loss.item())\n",
    "        \n",
    "\n",
    "        if step % 50 == 0:\n",
    "            print(f\"Step: {step}, Loss: {loss.item():.4f}\")\n",
    "\n",
    "        # Break the loop after 1000 steps.\n",
    "\n",
    "    # Calculate the average training loss for this epoch\n",
    "    avg_train_loss = total_train_loss / len(poem_train_dataloader)       \n",
    "\n",
    "    # Calculate the time spent on this epoch\n",
    "    training_time = format_time(time.time() - t0)\n",
    "\n",
    "    # Print the average training loss and time spent on this epoch\n",
    "    print(f'Average Training Loss: {avg_train_loss}. Epoch Training Time: {training_time}')\n",
    "\n",
    "    # Set the model to 'eval' mode. This is important when the model has layers like dropout, batchnorm etc. which behave differently during training and evaluation.\n",
    "    model.eval()\n",
    "\n",
    "    # Reset the total validation loss\n",
    "    total_eval_loss = 0\n",
    "    nb_eval_steps = 0\n",
    "\n",
    "    # Loop over each batch from the validation data loader\n",
    "    for batch in poem_val_dataloader:\n",
    "        b_input_ids = batch[0].to(device)\n",
    "        b_labels = batch[0].to(device)\n",
    "        b_masks = batch[1].to(device)\n",
    "\n",
    "        # We don't need to track gradients for validation, so wrap in no_grad to save memory\n",
    "        with torch.no_grad():        \n",
    "\n",
    "            # Forward pass\n",
    "            outputs  = model(b_input_ids, attention_mask=b_masks, labels=b_labels)\n",
    "\n",
    "            loss = outputs[0]  \n",
    "\n",
    "        # Accumulate the validation loss\n",
    "        batch_loss = loss.item()\n",
    "        total_eval_loss += batch_loss     \n",
    "        valid_losses.append(batch_loss)   \n",
    "\n",
    "    # Calculate the average validation loss for this epoch\n",
    "    avg_val_loss = total_eval_loss / len(poem_val_dataloader)\n",
    "\n",
    "    print(f'Average Validation Loss: {avg_val_loss}')\n",
    "\n",
    "print(f'Total Training Time: {format_time(time.time()-start_time)}')"
   ]
  },
  {
   "cell_type": "code",
   "execution_count": 72,
   "id": "12fa95c1",
   "metadata": {},
   "outputs": [],
   "source": [
    "import matplotlib.pyplot as plt"
   ]
  },
  {
   "cell_type": "code",
   "execution_count": 79,
   "id": "71607402",
   "metadata": {},
   "outputs": [
    {
     "data": {
      "text/plain": [
       "10531"
      ]
     },
     "execution_count": 79,
     "metadata": {},
     "output_type": "execute_result"
    }
   ],
   "source": [
    "len(losses)"
   ]
  },
  {
   "cell_type": "code",
   "execution_count": null,
   "id": "cbeb4bb8",
   "metadata": {},
   "outputs": [],
   "source": []
  },
  {
   "cell_type": "code",
   "execution_count": 80,
   "id": "cda41853",
   "metadata": {},
   "outputs": [
    {
     "data": {
      "image/png": "[encoded data removed]",
      "text/plain": [
       "<Figure size 640x480 with 1 Axes>"
      ]
     },
     "metadata": {},
     "output_type": "display_data"
    }
   ],
   "source": [
    "x = np.arange(len(losses)) * (MAX_LEN * BATCH_SIZE)\n",
    "\n",
    "# Plot the line chart\n",
    "plt.plot(x, losses)\n",
    "plt.xlabel('Tokens')\n",
    "plt.ylabel('Loss')\n",
    "plt.title('Training curve for my model!')\n",
    "plt.show()"
   ]
  },
  {
   "cell_type": "markdown",
   "id": "a521cb4e",
   "metadata": {},
   "source": [
    "## The loss at the beginning of the epoch is already low because it has been retrained again from previous run."
   ]
  },
  {
   "cell_type": "code",
   "execution_count": 74,
   "id": "60386e75",
   "metadata": {},
   "outputs": [
    {
     "data": {
      "image/png": "[encoded data removed]",
      "text/plain": [
       "<Figure size 640x480 with 1 Axes>"
      ]
     },
     "metadata": {},
     "output_type": "display_data"
    }
   ],
   "source": [
    "plt.hist(losses, bins=50, alpha=0.7, label='Training Loss')\n",
    "plt.hist(valid_losses, bins=50, alpha=0.7, label='Validation Loss')\n",
    "plt.xlabel('Loss')\n",
    "plt.ylabel('Frequency')\n",
    "plt.title('Histogram of Losses')\n",
    "plt.legend()\n",
    "plt.show()"
   ]
  },
  {
   "cell_type": "code",
   "execution_count": 75,
   "id": "58f9e78a",
   "metadata": {},
   "outputs": [
    {
     "data": {
      "image/png": "[encoded data removed]",
      "text/plain": [
       "<Figure size 640x480 with 1 Axes>"
      ]
     },
     "metadata": {},
     "output_type": "display_data"
    }
   ],
   "source": [
    "plt.boxplot([losses, valid_losses], labels=['Training Loss', 'Validation Loss'])\n",
    "plt.ylabel('Loss')\n",
    "plt.title('Box Plot of Losses')\n",
    "plt.show()"
   ]
  },
  {
   "cell_type": "code",
   "execution_count": 76,
   "id": "e58c05e9",
   "metadata": {},
   "outputs": [
    {
     "name": "stdout",
     "output_type": "stream",
     "text": [
      "Training Perplexity: 1.5605445236557192\n",
      "Validation Perplexity: 1.512593041600158\n"
     ]
    }
   ],
   "source": [
    "train_avg_loss = total_train_loss / len(poem_train_dataloader.dataset)\n",
    "train_perplexity = 2 ** train_avg_loss  # Perplexity formula: 2^average_loss_per_token\n",
    "\n",
    "val_avg_loss = total_eval_loss / len(poem_val_dataloader.dataset)\n",
    "val_perplexity = 2 ** val_avg_loss\n",
    "\n",
    "print(f'Training Perplexity: {train_perplexity}')\n",
    "print(f'Validation Perplexity: {val_perplexity}')"
   ]
  },
  {
   "cell_type": "code",
   "execution_count": null,
   "id": "5ab83c8e",
   "metadata": {},
   "outputs": [],
   "source": []
  },
  {
   "cell_type": "code",
   "execution_count": null,
   "id": "23067470",
   "metadata": {},
   "outputs": [],
   "source": []
  },
  {
   "cell_type": "code",
   "execution_count": 77,
   "id": "613df1d2",
   "metadata": {},
   "outputs": [],
   "source": [
    "torch.save(model.state_dict(),  'gpt2_model.pth')"
   ]
  },
  {
   "cell_type": "code",
   "execution_count": 78,
   "id": "920204ba",
   "metadata": {},
   "outputs": [
    {
     "name": "stderr",
     "output_type": "stream",
     "text": [
      "The attention mask and the pad token id were not set. As a consequence, you may observe unexpected behavior. Please pass your input's `attention_mask` to obtain reliable results.\n",
      "Setting `pad_token_id` to `eos_token_id`:50256 for open-end generation.\n",
      "The attention mask and the pad token id were not set. As a consequence, you may observe unexpected behavior. Please pass your input's `attention_mask` to obtain reliable results.\n",
      "Setting `pad_token_id` to `eos_token_id`:50256 for open-end generation.\n"
     ]
    },
    {
     "name": "stdout",
     "output_type": "stream",
     "text": [
      "0: Blue sky, green blue autumn is a natural place in the sky\n",
      "\n",
      "\n",
      "1: Blue sky, green light shimmering on winter night with sun stars flying away\n",
      "\n",
      "\n",
      "2: Blue sky, green sky and white and blue sky the grey stars of winter sky\n",
      "\n",
      "\n"
     ]
    },
    {
     "name": "stderr",
     "output_type": "stream",
     "text": [
      "The attention mask and the pad token id were not set. As a consequence, you may observe unexpected behavior. Please pass your input's `attention_mask` to obtain reliable results.\n",
      "Setting `pad_token_id` to `eos_token_id`:50256 for open-end generation.\n"
     ]
    },
    {
     "name": "stdout",
     "output_type": "stream",
     "text": [
      "0: Life with sadness  is like i dont like being able to get out\n",
      "\n",
      "\n",
      "1: Life with sadness in  these days but well get the death to the truth\n",
      "\n",
      "\n",
      "2: Life with sadness is nt always easy but i love it and love it\n",
      "\n",
      "\n",
      "0: Wild water apples  make my own own heart more uncomfortable\n",
      "\n",
      "\n",
      "1: Wild water apples is  better than silk apple apples is more than fruit\n",
      "\n",
      "\n",
      "2: Wild water apples only  one thing the moon is snowing the cold\n",
      "\n",
      "\n"
     ]
    }
   ],
   "source": [
    "# text = \"I love my dog\"\n",
    "# input_ids = tokenizer.encode(text, return_tensors='tf')\n",
    "device = torch.device(\"cuda\" if torch.cuda.is_available() else \"cpu\")\n",
    "\n",
    "model = model.to(device)\n",
    "\n",
    "# create text generation seed promp\n",
    "prompts = [\"<BOS> Blue sky, green\",\"<BOS> Life with sadness\",\"<BOS> Wild water apples\"]\n",
    "for prompt in prompts:\n",
    "    generated = torch.tensor(tokenizer.encode(prompt)).unsqueeze(0)\n",
    "    generated = generated.to(device)\n",
    "\n",
    "    sample_outputs = model.generate(\n",
    "                                    generated, \n",
    "                                    do_sample=True,   \n",
    "                                    top_k=50, \n",
    "                                    max_length=MAX_LEN,\n",
    "                                    top_p=0.95, \n",
    "                                    num_return_sequences=3\n",
    "                                    )\n",
    "\n",
    "    # print(tokenizer.decode(sample_outputs[0], skip_special_tokens=True))\n",
    "\n",
    "    for i, sample_output in enumerate(sample_outputs):\n",
    "        print(\"{}: {}\\n\\n\".format(i, tokenizer.decode(sample_output, skip_special_tokens=True)))"
   ]
  },
  {
   "cell_type": "code",
   "execution_count": null,
   "id": "83c042b8",
   "metadata": {},
   "outputs": [],
   "source": []
  },
  {
   "cell_type": "code",
   "execution_count": null,
   "id": "599b7eec",
   "metadata": {},
   "outputs": [],
   "source": []
  }
 ],
 "metadata": {
  "kernelspec": {
   "display_name": "Python 3 (ipykernel)",
   "language": "python",
   "name": "python3"
  },
  "language_info": {
   "codemirror_mode": {
    "name": "ipython",
    "version": 3
   },
   "file_extension": ".py",
   "mimetype": "text/x-python",
   "name": "python",
   "nbconvert_exporter": "python",
   "pygments_lexer": "ipython3",
   "version": "3.11.4"
  }
 },
 "nbformat": 4,
 "nbformat_minor": 5
}
