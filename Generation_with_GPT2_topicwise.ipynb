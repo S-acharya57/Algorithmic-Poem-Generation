{
 "cells": [
  {
   "cell_type": "code",
   "execution_count": null,
   "id": "B9CfXPgocEtG",
   "metadata": {
    "colab": {
     "base_uri": "https://localhost:8080/"
    },
    "id": "B9CfXPgocEtG",
    "outputId": "c1f76ac5-92cd-4f4a-b8a4-f1f53124de16"
   },
   "outputs": [],
   "source": []
  },
  {
   "cell_type": "code",
   "execution_count": 2,
   "id": "0c9e9602",
   "metadata": {
    "colab": {
     "base_uri": "https://localhost:8080/"
    },
    "id": "0c9e9602",
    "outputId": "21bef63d-aeb7-4d6b-c753-88666bc4dc31"
   },
   "outputs": [
    {
     "data": {
      "text/plain": [
       "Unnamed: 0            int64\n",
       "0                    object\n",
       "1                    object\n",
       "2                    object\n",
       "source               object\n",
       "hash                 object\n",
       "topic1              float64\n",
       "topic2              float64\n",
       "topic3              float64\n",
       "topic4              float64\n",
       "topic5              float64\n",
       "topic6              float64\n",
       "topic7              float64\n",
       "topic8              float64\n",
       "topic9              float64\n",
       "topic10             float64\n",
       "topic11             float64\n",
       "topic12             float64\n",
       "topic13             float64\n",
       "topic14             float64\n",
       "topic15             float64\n",
       "best topic           object\n",
       "best probability    float64\n",
       "dtype: object"
      ]
     },
     "execution_count": 2,
     "metadata": {},
     "output_type": "execute_result"
    }
   ],
   "source": [
    "import warnings\n",
    "\n",
    "warnings.filterwarnings('ignore', message= 'Series.__getitem__')\n",
    "warnings.filterwarnings('ignore', category = DeprecationWarning)\n",
    "import numpy as np\n",
    "import pandas as pd\n",
    "no_deprecation_warning=True\n",
    "df = pd.read_csv('dataset_topics_60k.csv')\n",
    "df.dtypes"
   ]
  },
  {
   "cell_type": "code",
   "execution_count": 3,
   "id": "e3be62a2",
   "metadata": {
    "colab": {
     "base_uri": "https://localhost:8080/"
    },
    "id": "e3be62a2",
    "outputId": "cde82ae6-c919-47c2-c3c4-d74577f75570"
   },
   "outputs": [
    {
     "name": "stdout",
     "output_type": "stream",
     "text": [
      "Wed Dec 13 18:06:59 2023       \n",
      "+---------------------------------------------------------------------------------------+\n",
      "| NVIDIA-SMI 537.13                 Driver Version: 537.13       CUDA Version: 12.2     |\n",
      "|-----------------------------------------+----------------------+----------------------+\n",
      "| GPU  Name                     TCC/WDDM  | Bus-Id        Disp.A | Volatile Uncorr. ECC |\n",
      "| Fan  Temp   Perf          Pwr:Usage/Cap |         Memory-Usage | GPU-Util  Compute M. |\n",
      "|                                         |                      |               MIG M. |\n",
      "|=========================================+======================+======================|\n",
      "|   0  NVIDIA GeForce RTX 3060 ...  WDDM  | 00000000:01:00.0  On |                  N/A |\n",
      "| N/A   43C    P8              10W /  95W |    151MiB /  6144MiB |      0%      Default |\n",
      "|                                         |                      |                  N/A |\n",
      "+-----------------------------------------+----------------------+----------------------+\n",
      "                                                                                         \n",
      "+---------------------------------------------------------------------------------------+\n",
      "| Processes:                                                                            |\n",
      "|  GPU   GI   CI        PID   Type   Process name                            GPU Memory |\n",
      "|        ID   ID                                                             Usage      |\n",
      "|=======================================================================================|\n",
      "|    0   N/A  N/A     11752    C+G   ...App\\OmenCommandCenterBackground.exe    N/A      |\n",
      "+---------------------------------------------------------------------------------------+\n"
     ]
    }
   ],
   "source": [
    "!nvidia-smi"
   ]
  },
  {
   "cell_type": "code",
   "execution_count": 4,
   "id": "6c4be4d8",
   "metadata": {
    "colab": {
     "base_uri": "https://localhost:8080/",
     "height": 550
    },
    "id": "6c4be4d8",
    "outputId": "c068ca54-5766-4be2-8146-4d1032740acb"
   },
   "outputs": [
    {
     "data": {
      "text/html": [
       "<div>\n",
       "<style scoped>\n",
       "    .dataframe tbody tr th:only-of-type {\n",
       "        vertical-align: middle;\n",
       "    }\n",
       "\n",
       "    .dataframe tbody tr th {\n",
       "        vertical-align: top;\n",
       "    }\n",
       "\n",
       "    .dataframe thead th {\n",
       "        text-align: right;\n",
       "    }\n",
       "</style>\n",
       "<table border=\"1\" class=\"dataframe\">\n",
       "  <thead>\n",
       "    <tr style=\"text-align: right;\">\n",
       "      <th></th>\n",
       "      <th>Unnamed: 0</th>\n",
       "      <th>0</th>\n",
       "      <th>1</th>\n",
       "      <th>2</th>\n",
       "      <th>source</th>\n",
       "      <th>hash</th>\n",
       "      <th>topic1</th>\n",
       "      <th>topic2</th>\n",
       "      <th>topic3</th>\n",
       "      <th>topic4</th>\n",
       "      <th>...</th>\n",
       "      <th>topic8</th>\n",
       "      <th>topic9</th>\n",
       "      <th>topic10</th>\n",
       "      <th>topic11</th>\n",
       "      <th>topic12</th>\n",
       "      <th>topic13</th>\n",
       "      <th>topic14</th>\n",
       "      <th>topic15</th>\n",
       "      <th>best topic</th>\n",
       "      <th>best probability</th>\n",
       "    </tr>\n",
       "  </thead>\n",
       "  <tbody>\n",
       "    <tr>\n",
       "      <th>0</th>\n",
       "      <td>24</td>\n",
       "      <td>visiting the graves</td>\n",
       "      <td>stronger the october wind</td>\n",
       "      <td>at my grandparents'</td>\n",
       "      <td>tempslibres</td>\n",
       "      <td>VISITINGTHEGRAVESSTRONGERTHEOCTOBERWINDATMYGRA...</td>\n",
       "      <td>0.011111</td>\n",
       "      <td>0.011111</td>\n",
       "      <td>0.011111</td>\n",
       "      <td>0.011111</td>\n",
       "      <td>...</td>\n",
       "      <td>0.011111</td>\n",
       "      <td>0.011111</td>\n",
       "      <td>0.011111</td>\n",
       "      <td>0.011111</td>\n",
       "      <td>0.844444</td>\n",
       "      <td>0.011111</td>\n",
       "      <td>0.011111</td>\n",
       "      <td>0.011111</td>\n",
       "      <td>topic12</td>\n",
       "      <td>0.844444</td>\n",
       "    </tr>\n",
       "    <tr>\n",
       "      <th>1</th>\n",
       "      <td>141</td>\n",
       "      <td>profound blue of night</td>\n",
       "      <td>the resin and salt of pines</td>\n",
       "      <td>so far from the sea</td>\n",
       "      <td>tempslibres</td>\n",
       "      <td>PROFOUNDBLUEOFNIGHTTHERESINANDSALTOFPINESSOFAR...</td>\n",
       "      <td>0.007407</td>\n",
       "      <td>0.896296</td>\n",
       "      <td>0.007407</td>\n",
       "      <td>0.007407</td>\n",
       "      <td>...</td>\n",
       "      <td>0.007407</td>\n",
       "      <td>0.007407</td>\n",
       "      <td>0.007407</td>\n",
       "      <td>0.007407</td>\n",
       "      <td>0.007407</td>\n",
       "      <td>0.007407</td>\n",
       "      <td>0.007407</td>\n",
       "      <td>0.007407</td>\n",
       "      <td>topic2</td>\n",
       "      <td>0.896296</td>\n",
       "    </tr>\n",
       "    <tr>\n",
       "      <th>2</th>\n",
       "      <td>142</td>\n",
       "      <td>scattered in the ditch</td>\n",
       "      <td>like tiny scraps of blue sky</td>\n",
       "      <td>bits of plastic bag</td>\n",
       "      <td>tempslibres</td>\n",
       "      <td>SCATTEREDINTHEDITCHLIKETINYSCRAPSOFBLUESKYBITS...</td>\n",
       "      <td>0.006667</td>\n",
       "      <td>0.006667</td>\n",
       "      <td>0.006667</td>\n",
       "      <td>0.006667</td>\n",
       "      <td>...</td>\n",
       "      <td>0.006667</td>\n",
       "      <td>0.906666</td>\n",
       "      <td>0.006667</td>\n",
       "      <td>0.006667</td>\n",
       "      <td>0.006667</td>\n",
       "      <td>0.006667</td>\n",
       "      <td>0.006667</td>\n",
       "      <td>0.006667</td>\n",
       "      <td>topic9</td>\n",
       "      <td>0.906666</td>\n",
       "    </tr>\n",
       "    <tr>\n",
       "      <th>3</th>\n",
       "      <td>343</td>\n",
       "      <td>the smell of her hands</td>\n",
       "      <td>on the neck of the bottle</td>\n",
       "      <td>drinking greedily</td>\n",
       "      <td>tempslibres</td>\n",
       "      <td>THESMELLOFHERHANDSONTHENECKOFTHEBOTTLEDRINKING...</td>\n",
       "      <td>0.011111</td>\n",
       "      <td>0.011111</td>\n",
       "      <td>0.011111</td>\n",
       "      <td>0.011111</td>\n",
       "      <td>...</td>\n",
       "      <td>0.844444</td>\n",
       "      <td>0.011111</td>\n",
       "      <td>0.011111</td>\n",
       "      <td>0.011111</td>\n",
       "      <td>0.011111</td>\n",
       "      <td>0.011111</td>\n",
       "      <td>0.011111</td>\n",
       "      <td>0.011111</td>\n",
       "      <td>topic8</td>\n",
       "      <td>0.844444</td>\n",
       "    </tr>\n",
       "    <tr>\n",
       "      <th>4</th>\n",
       "      <td>435</td>\n",
       "      <td>christmas services</td>\n",
       "      <td>a cellular phone rings out</td>\n",
       "      <td>handel's messiah</td>\n",
       "      <td>tempslibres</td>\n",
       "      <td>CHRISTMASSERVICESACELLULARPHONERINGSOUTHANDELS...</td>\n",
       "      <td>0.008333</td>\n",
       "      <td>0.008333</td>\n",
       "      <td>0.008333</td>\n",
       "      <td>0.008333</td>\n",
       "      <td>...</td>\n",
       "      <td>0.008333</td>\n",
       "      <td>0.008333</td>\n",
       "      <td>0.008333</td>\n",
       "      <td>0.139525</td>\n",
       "      <td>0.008333</td>\n",
       "      <td>0.008333</td>\n",
       "      <td>0.512645</td>\n",
       "      <td>0.247830</td>\n",
       "      <td>topic14</td>\n",
       "      <td>0.512645</td>\n",
       "    </tr>\n",
       "  </tbody>\n",
       "</table>\n",
       "<p>5 rows × 23 columns</p>\n",
       "</div>"
      ],
      "text/plain": [
       "   Unnamed: 0                        0                             1  \\\n",
       "0          24      visiting the graves     stronger the october wind   \n",
       "1         141  profound blue of night    the resin and salt of pines   \n",
       "2         142  scattered in the ditch   like tiny scraps of blue sky   \n",
       "3         343   the smell of her hands     on the neck of the bottle   \n",
       "4         435       christmas services    a cellular phone rings out   \n",
       "\n",
       "                     2       source  \\\n",
       "0  at my grandparents'  tempslibres   \n",
       "1  so far from the sea  tempslibres   \n",
       "2  bits of plastic bag  tempslibres   \n",
       "3    drinking greedily  tempslibres   \n",
       "4     handel's messiah  tempslibres   \n",
       "\n",
       "                                                hash    topic1    topic2  \\\n",
       "0  VISITINGTHEGRAVESSTRONGERTHEOCTOBERWINDATMYGRA...  0.011111  0.011111   \n",
       "1  PROFOUNDBLUEOFNIGHTTHERESINANDSALTOFPINESSOFAR...  0.007407  0.896296   \n",
       "2  SCATTEREDINTHEDITCHLIKETINYSCRAPSOFBLUESKYBITS...  0.006667  0.006667   \n",
       "3  THESMELLOFHERHANDSONTHENECKOFTHEBOTTLEDRINKING...  0.011111  0.011111   \n",
       "4  CHRISTMASSERVICESACELLULARPHONERINGSOUTHANDELS...  0.008333  0.008333   \n",
       "\n",
       "     topic3    topic4  ...    topic8    topic9   topic10   topic11   topic12  \\\n",
       "0  0.011111  0.011111  ...  0.011111  0.011111  0.011111  0.011111  0.844444   \n",
       "1  0.007407  0.007407  ...  0.007407  0.007407  0.007407  0.007407  0.007407   \n",
       "2  0.006667  0.006667  ...  0.006667  0.906666  0.006667  0.006667  0.006667   \n",
       "3  0.011111  0.011111  ...  0.844444  0.011111  0.011111  0.011111  0.011111   \n",
       "4  0.008333  0.008333  ...  0.008333  0.008333  0.008333  0.139525  0.008333   \n",
       "\n",
       "    topic13   topic14   topic15  best topic  best probability  \n",
       "0  0.011111  0.011111  0.011111     topic12          0.844444  \n",
       "1  0.007407  0.007407  0.007407      topic2          0.896296  \n",
       "2  0.006667  0.006667  0.006667      topic9          0.906666  \n",
       "3  0.011111  0.011111  0.011111      topic8          0.844444  \n",
       "4  0.008333  0.512645  0.247830     topic14          0.512645  \n",
       "\n",
       "[5 rows x 23 columns]"
      ]
     },
     "execution_count": 4,
     "metadata": {},
     "output_type": "execute_result"
    }
   ],
   "source": [
    "df.head()"
   ]
  },
  {
   "cell_type": "code",
   "execution_count": 5,
   "id": "5e8f0043",
   "metadata": {
    "colab": {
     "base_uri": "https://localhost:8080/"
    },
    "id": "5e8f0043",
    "outputId": "8c5c4665-9b44-4579-f152-9b2ec9ee9d01"
   },
   "outputs": [
    {
     "name": "stdout",
     "output_type": "stream",
     "text": [
      "26327\n"
     ]
    },
    {
     "data": {
      "text/plain": [
       "[\"topic12 = visiting the graves. / stronger the october wind. / at my grandparents'\",\n",
       " 'topic2 = profound blue of night . / the resin and salt of pines. / so far from the sea',\n",
       " 'topic9 = scattered in the ditch . / like tiny scraps of blue sky. / bits of plastic bag',\n",
       " 'topic8 = the smell of her hands. / on the neck of the bottle. / drinking greedily',\n",
       " \"topic14 = christmas services. / a cellular phone rings out. / handel's messiah\",\n",
       " \"topic4 = gazing at the moon. / on a still summer's evening. / feast for mosquitoes\",\n",
       " 'topic8 = my tea gets colder. / and the madeleine just sinks. / memory betrays',\n",
       " 'topic14 = small green waves crashing. / against a porcelain rim. / morning tea tempest',\n",
       " 'topic1 = red poppies growing. / between rows of white tombstones. / as in remembrance',\n",
       " 'topic9 = in front of bronze doors. / they huddle against the cold. / the newly homeless']"
      ]
     },
     "execution_count": 5,
     "metadata": {},
     "output_type": "execute_result"
    }
   ],
   "source": [
    "# Function to create a string instance based on specific columns in a DataFrame\n",
    "def combine_columns_to_string(index):\n",
    "    # Ensuring the index is non-negative\n",
    "    assert index >= 0, 'Index cannot be a negative integer'\n",
    "\n",
    "    # Retrieving the row at the specified index\n",
    "    selected_row = df.iloc[index, :]\n",
    "\n",
    "    # Combining columns 0, 1, and 2 into a single string\n",
    "    # making the poem seem together at similar manner\n",
    "    combined_string = str(selected_row[21])+' = '+str(selected_row[1]) +'. / ' +str(selected_row[2]) + '. / '+str(selected_row[3])\n",
    "\n",
    "    return combined_string\n",
    "\n",
    "# Applying the function to each row in the df\n",
    "document = [combine_columns_to_string(i) for i in range(len(df.iloc[:, 2]))]\n",
    "print(len(document))\n",
    "document[:10]"
   ]
  },
  {
   "cell_type": "code",
   "execution_count": null,
   "id": "1031a47c",
   "metadata": {
    "id": "1031a47c"
   },
   "outputs": [],
   "source": []
  },
  {
   "cell_type": "code",
   "execution_count": 6,
   "id": "01e0fcb3",
   "metadata": {
    "colab": {
     "base_uri": "https://localhost:8080/"
    },
    "id": "01e0fcb3",
    "outputId": "cc1e369a-81d7-41ea-a156-576e1b94fe25"
   },
   "outputs": [
    {
     "data": {
      "text/plain": [
       "['topic12 = visiting the graves. / stronger the october wind. / at my grandparents',\n",
       " 'topic2 = profound blue of night . / the resin and salt of pines. / so far from the sea',\n",
       " 'topic9 = scattered in the ditch . / like tiny scraps of blue sky. / bits of plastic bag',\n",
       " 'topic8 = the smell of her hands. / on the neck of the bottle. / drinking greedily',\n",
       " 'topic14 = christmas services. / a cellular phone rings out. / handels messiah']"
      ]
     },
     "execution_count": 6,
     "metadata": {},
     "output_type": "execute_result"
    }
   ],
   "source": [
    "#cleaning the document\n",
    "document = [string.replace('\\'', '') for string in document]\n",
    "document[:5]"
   ]
  },
  {
   "cell_type": "code",
   "execution_count": 7,
   "id": "d0b32cb5",
   "metadata": {
    "colab": {
     "base_uri": "https://localhost:8080/",
     "height": 472
    },
    "id": "d0b32cb5",
    "outputId": "cd81ebaf-0d85-46ed-a49f-a9d245250ba3"
   },
   "outputs": [
    {
     "data": {
      "image/png": "[encoded data removed]",
      "text/plain": [
       "<Figure size 640x480 with 1 Axes>"
      ]
     },
     "metadata": {},
     "output_type": "display_data"
    }
   ],
   "source": [
    "import matplotlib.pyplot as plt\n",
    "\n",
    "# For sequence lengths, assuming 'text' column contains sequences\n",
    "sequence_lengths = [len(seq) for seq in document]\n",
    "plt.hist(sequence_lengths, bins=30)\n",
    "plt.xlabel('Sequence Length')\n",
    "plt.ylabel('Frequency')\n",
    "plt.title('Distribution of Sequence Lengths')\n",
    "plt.show()"
   ]
  },
  {
   "cell_type": "code",
   "execution_count": null,
   "id": "3cfc0744",
   "metadata": {
    "id": "3cfc0744"
   },
   "outputs": [],
   "source": []
  },
  {
   "cell_type": "code",
   "execution_count": null,
   "id": "08f50d87",
   "metadata": {
    "id": "08f50d87"
   },
   "outputs": [],
   "source": []
  },
  {
   "cell_type": "code",
   "execution_count": 8,
   "id": "12c85ae7",
   "metadata": {
    "id": "12c85ae7"
   },
   "outputs": [],
   "source": [
    "import random\n",
    "import os\n",
    "\n",
    "# time related modules\n",
    "import time\n",
    "import datetime\n",
    "import torch\n",
    "\n",
    "from transformers import GPT2Tokenizer, GPT2LMHeadModel, GPT2Config, AdamW, get_linear_schedule_with_warmup\n",
    "from torch.utils.data import Dataset, random_split, DataLoader, RandomSampler, SequentialSampler\n"
   ]
  },
  {
   "cell_type": "code",
   "execution_count": 9,
   "id": "96753be6",
   "metadata": {
    "id": "96753be6"
   },
   "outputs": [],
   "source": [
    "RAND_SEED = 73\n",
    "BATCH_SIZE = 2\n",
    "EPOCHS = 1"
   ]
  },
  {
   "cell_type": "code",
   "execution_count": 12,
   "id": "5e192143",
   "metadata": {},
   "outputs": [],
   "source": [
    "tokenizer = GPT2Tokenizer.from_pretrained('gpt2')\n",
    "special_tokens_dict = {\n",
    "    'bos_token': '<BOS>',\n",
    "    'eos_token': '<EOS>',\n",
    "    'pad_token': '<PAD>'}\n",
    "num_added_tokens = tokenizer.add_special_tokens(special_tokens_dict)"
   ]
  },
  {
   "cell_type": "code",
   "execution_count": 13,
   "id": "85b8edf4",
   "metadata": {},
   "outputs": [
    {
     "name": "stdout",
     "output_type": "stream",
     "text": [
      "30\n"
     ]
    }
   ],
   "source": [
    "max_length= max([tokenizer(d, return_tensors=\"pt\").input_ids.cuda().shape[1] for d in document])\n",
    "print(max_length)"
   ]
  },
  {
   "cell_type": "code",
   "execution_count": 14,
   "id": "192f8256",
   "metadata": {
    "id": "192f8256"
   },
   "outputs": [],
   "source": [
    "class PoemDataset(Dataset):\n",
    "    def __init__(self, data, tokenizer, gpt2_type='gpt2', max_length=max_length):\n",
    "        self.tokenizer = tokenizer\n",
    "        self.input_ids = []\n",
    "        self.attn_masks = []\n",
    "        all_texts = \"\"\n",
    "        # Iterate over data, tokenize each sequence and append its input_id and attention_mask to respective lists\n",
    "        for i in data:\n",
    "            all_texts+=i\n",
    "            encodings_dict = tokenizer(all_texts,\n",
    "                                     truncation=True,\n",
    "                                     max_length=max_length,\n",
    "                                     padding='max_length')\n",
    "\n",
    "            self.input_ids.append(torch.tensor(encodings_dict['input_ids']))\n",
    "            self.attn_masks.append(torch.tensor(encodings_dict['attention_mask']))\n",
    "            all_texts = \"\"\n",
    "\n",
    "    def __len__(self):\n",
    "        return len(self.input_ids)\n",
    "\n",
    "    def __getitem__(self, idx):\n",
    "        return self.input_ids[idx], self.attn_masks[idx]"
   ]
  },
  {
   "cell_type": "code",
   "execution_count": null,
   "id": "97c9c0eb",
   "metadata": {
    "id": "97c9c0eb"
   },
   "outputs": [],
   "source": []
  },
  {
   "cell_type": "code",
   "execution_count": 15,
   "id": "ae324da1",
   "metadata": {
    "colab": {
     "base_uri": "https://localhost:8080/"
    },
    "id": "ae324da1",
    "outputId": "fd83116c-6b90-4359-b710-ba0731c260e6"
   },
   "outputs": [
    {
     "data": {
      "text/plain": [
       "GPT2Tokenizer(name_or_path='gpt2', vocab_size=50257, model_max_length=1024, is_fast=False, padding_side='right', truncation_side='right', special_tokens={'bos_token': '<BOS>', 'eos_token': '<EOS>', 'unk_token': AddedToken(\"<|endoftext|>\", rstrip=False, lstrip=False, single_word=False, normalized=True), 'pad_token': '<PAD>'}, clean_up_tokenization_spaces=True)"
      ]
     },
     "execution_count": 15,
     "metadata": {},
     "output_type": "execute_result"
    }
   ],
   "source": [
    "tokenizer"
   ]
  },
  {
   "cell_type": "code",
   "execution_count": 16,
   "id": "27b967d9",
   "metadata": {
    "id": "27b967d9"
   },
   "outputs": [],
   "source": [
    "# with torch.no_grad():\n",
    "#   prompt_tokens2 = tokenizer(\"Create a haiku about a pug. Write three lines with 5/7/5 syllables.\", return_tensors=\"pt\").input_ids.cuda()\n",
    "#   sample_outputs = gpt.generate(prompt_tokens2, max_length=80, do_sample=True, temperature=0.7)\n",
    "#   for i, sample_output in enumerate(sample_outputs):\n",
    "#     print(\"{}: {}\".format(i, tokenizer.decode(sample_output, skip_special_tokens=True)))\n"
   ]
  },
  {
   "cell_type": "code",
   "execution_count": 17,
   "id": "2c1ec4d9",
   "metadata": {
    "colab": {
     "base_uri": "https://localhost:8080/"
    },
    "id": "2c1ec4d9",
    "outputId": "54ac6d45-9a2b-43d6-bb9d-bba7a8803733"
   },
   "outputs": [
    {
     "data": {
      "text/plain": [
       "torch.Size([1, 16])"
      ]
     },
     "execution_count": 17,
     "metadata": {},
     "output_type": "execute_result"
    }
   ],
   "source": [
    "tokenizer('visiting the graves. / stronger the october wind. / at my grandparents', return_tensors=\"pt\").input_ids.cuda().shape"
   ]
  },
  {
   "cell_type": "code",
   "execution_count": null,
   "id": "d0d2fee7",
   "metadata": {
    "id": "d0d2fee7"
   },
   "outputs": [],
   "source": []
  },
  {
   "cell_type": "code",
   "execution_count": null,
   "id": "c7cefeb9",
   "metadata": {
    "colab": {
     "base_uri": "https://localhost:8080/"
    },
    "id": "c7cefeb9",
    "outputId": "0c7a9336-d321-4c42-afa5-7f8a6ad64055"
   },
   "outputs": [],
   "source": []
  },
  {
   "cell_type": "code",
   "execution_count": 18,
   "id": "e2a1bd78",
   "metadata": {
    "colab": {
     "base_uri": "https://localhost:8080/"
    },
    "id": "e2a1bd78",
    "outputId": "114b8631-4373-4c13-d0d9-d611e5bfa5eb"
   },
   "outputs": [
    {
     "data": {
      "text/plain": [
       "<__main__.PoemDataset at 0x24d4d2b49d0>"
      ]
     },
     "execution_count": 18,
     "metadata": {},
     "output_type": "execute_result"
    }
   ],
   "source": [
    "poem_dataset = PoemDataset(document, tokenizer, max_length=max_length)\n",
    "poem_dataset"
   ]
  },
  {
   "cell_type": "code",
   "execution_count": 19,
   "id": "r92S-mknZHsA",
   "metadata": {
    "colab": {
     "base_uri": "https://localhost:8080/"
    },
    "id": "r92S-mknZHsA",
    "outputId": "47080258-709c-4078-dcf2-3fc86b10247f"
   },
   "outputs": [
    {
     "data": {
      "text/plain": [
       "26327"
      ]
     },
     "execution_count": 19,
     "metadata": {},
     "output_type": "execute_result"
    }
   ],
   "source": [
    "len(poem_dataset)"
   ]
  },
  {
   "cell_type": "code",
   "execution_count": 21,
   "id": "VUbxFe7raFdM",
   "metadata": {
    "colab": {
     "base_uri": "https://localhost:8080/"
    },
    "id": "VUbxFe7raFdM",
    "outputId": "aaf91069-5ef4-4833-80d2-69cd16956e4e"
   },
   "outputs": [
    {
     "name": "stderr",
     "output_type": "stream",
     "text": [
      "You are resizing the embedding layer without providing a `pad_to_multiple_of` parameter. This means that the new embeding dimension will be 50260. This might induce some performance reduction as *Tensor Cores* will not be available. For more details  about this, or help on choosing the correct value for resizing, refer to this guide: https://docs.nvidia.com/deeplearning/performance/dl-performance-matrix-multiplication/index.html#requirements-tc\n"
     ]
    },
    {
     "data": {
      "text/plain": [
       "GPT2LMHeadModel(\n",
       "  (transformer): GPT2Model(\n",
       "    (wte): Embedding(50260, 768)\n",
       "    (wpe): Embedding(1024, 768)\n",
       "    (drop): Dropout(p=0.1, inplace=False)\n",
       "    (h): ModuleList(\n",
       "      (0-11): 12 x GPT2Block(\n",
       "        (ln_1): LayerNorm((768,), eps=1e-05, elementwise_affine=True)\n",
       "        (attn): GPT2Attention(\n",
       "          (c_attn): Conv1D()\n",
       "          (c_proj): Conv1D()\n",
       "          (attn_dropout): Dropout(p=0.1, inplace=False)\n",
       "          (resid_dropout): Dropout(p=0.1, inplace=False)\n",
       "        )\n",
       "        (ln_2): LayerNorm((768,), eps=1e-05, elementwise_affine=True)\n",
       "        (mlp): GPT2MLP(\n",
       "          (c_fc): Conv1D()\n",
       "          (c_proj): Conv1D()\n",
       "          (act): NewGELUActivation()\n",
       "          (dropout): Dropout(p=0.1, inplace=False)\n",
       "        )\n",
       "      )\n",
       "    )\n",
       "    (ln_f): LayerNorm((768,), eps=1e-05, elementwise_affine=True)\n",
       "  )\n",
       "  (lm_head): Linear(in_features=768, out_features=50260, bias=False)\n",
       ")"
      ]
     },
     "execution_count": 21,
     "metadata": {},
     "output_type": "execute_result"
    }
   ],
   "source": [
    "configuration = GPT2Config(vocab_size=len(tokenizer), n_positions=max_length).from_pretrained('gpt2', output_hidden_states=True)\n",
    "model = GPT2LMHeadModel.from_pretrained('gpt2', config=configuration)\n",
    "model.resize_token_embeddings(len(tokenizer))\n",
    "model.cuda()"
   ]
  },
  {
   "cell_type": "code",
   "execution_count": 62,
   "id": "RjJ6tAsoZXsX",
   "metadata": {
    "id": "RjJ6tAsoZXsX"
   },
   "outputs": [],
   "source": [
    "from transformers import TrainerCallback\n",
    "from transformers import TrainingArguments, Trainer\n",
    "\n",
    "class SaveCallback(TrainerCallback):\n",
    "  \"A callback that prints a message at the beginning of training\"\n",
    "\n",
    "  def on_step_end(self, args, state, control, **kwargs):\n",
    "    if state.global_step %5000 == 4999:\n",
    "      file_name = \"checkpoints/output/gpt2_\" + str(state.global_step+1).zfill(6) + \".pt\"\n",
    "      torch.save(model, file_name)"
   ]
  },
  {
   "cell_type": "code",
   "execution_count": 22,
   "id": "fbeb073f",
   "metadata": {
    "id": "fbeb073f"
   },
   "outputs": [],
   "source": [
    "split = 0.8\n",
    "train_size = int(split * len(poem_dataset))\n",
    "\n",
    "train_dataset, val_dataset = random_split(poem_dataset, [train_size, len(poem_dataset) - train_size])"
   ]
  },
  {
   "cell_type": "code",
   "execution_count": 23,
   "id": "chM-S0REcy4Y",
   "metadata": {
    "colab": {
     "base_uri": "https://localhost:8080/"
    },
    "id": "chM-S0REcy4Y",
    "outputId": "7500a9c2-7ef7-4d99-a521-ca4cd7fb6f6f"
   },
   "outputs": [
    {
     "data": {
      "text/plain": [
       "(<torch.utils.data.dataset.Subset at 0x24d4eeefb10>,\n",
       " <torch.utils.data.dataset.Subset at 0x24d4d32b210>,\n",
       " 21061,\n",
       " 5266)"
      ]
     },
     "execution_count": 23,
     "metadata": {},
     "output_type": "execute_result"
    }
   ],
   "source": [
    "train_dataset, val_dataset, len(train_dataset), len(val_dataset)"
   ]
  },
  {
   "cell_type": "code",
   "execution_count": 24,
   "id": "288db5c4",
   "metadata": {
    "colab": {
     "base_uri": "https://localhost:8080/"
    },
    "id": "288db5c4",
    "outputId": "decc92da-3399-48d9-8549-eb2c4f05ed1c"
   },
   "outputs": [
    {
     "data": {
      "text/plain": [
       "<torch._C.Generator at 0x24d3934b510>"
      ]
     },
     "execution_count": 24,
     "metadata": {},
     "output_type": "execute_result"
    }
   ],
   "source": [
    "torch.cuda.manual_seed_all(RAND_SEED)\n",
    "random.seed(RAND_SEED)\n",
    "np.random.seed(RAND_SEED)\n",
    "torch.manual_seed(RAND_SEED)"
   ]
  },
  {
   "cell_type": "code",
   "execution_count": 25,
   "id": "de613b1a",
   "metadata": {
    "id": "de613b1a"
   },
   "outputs": [],
   "source": [
    "poem_train_dataloader = DataLoader(train_dataset,\n",
    "                              sampler=RandomSampler(train_dataset),\n",
    "                              batch_size=BATCH_SIZE)\n",
    "\n",
    "poem_val_dataloader = DataLoader(val_dataset,\n",
    "                            sampler=SequentialSampler(val_dataset),\n",
    "                            batch_size=BATCH_SIZE)"
   ]
  },
  {
   "cell_type": "code",
   "execution_count": 26,
   "id": "8948f1cc",
   "metadata": {
    "id": "8948f1cc"
   },
   "outputs": [],
   "source": [
    "# helper function for logging time\n",
    "def format_time(elapsed):\n",
    "    return str(datetime.timedelta(seconds=int(round((elapsed)))))\n",
    "\n",
    "# hyperparameters\n",
    "learning_rate = 1e-3\n",
    "eps = 1e-8\n",
    "warmup_steps = 50\n",
    "device = torch.device('cuda')\n",
    "\n",
    "optimizer = torch.optim.Adam(model.parameters(), lr=learning_rate)"
   ]
  },
  {
   "cell_type": "code",
   "execution_count": 27,
   "id": "acc69d7a",
   "metadata": {
    "colab": {
     "base_uri": "https://localhost:8080/"
    },
    "id": "acc69d7a",
    "outputId": "23af736f-5405-4b36-eb09-e73c51918feb"
   },
   "outputs": [
    {
     "data": {
      "text/plain": [
       "GPT2LMHeadModel(\n",
       "  (transformer): GPT2Model(\n",
       "    (wte): Embedding(50260, 768)\n",
       "    (wpe): Embedding(1024, 768)\n",
       "    (drop): Dropout(p=0.1, inplace=False)\n",
       "    (h): ModuleList(\n",
       "      (0-11): 12 x GPT2Block(\n",
       "        (ln_1): LayerNorm((768,), eps=1e-05, elementwise_affine=True)\n",
       "        (attn): GPT2Attention(\n",
       "          (c_attn): Conv1D()\n",
       "          (c_proj): Conv1D()\n",
       "          (attn_dropout): Dropout(p=0.1, inplace=False)\n",
       "          (resid_dropout): Dropout(p=0.1, inplace=False)\n",
       "        )\n",
       "        (ln_2): LayerNorm((768,), eps=1e-05, elementwise_affine=True)\n",
       "        (mlp): GPT2MLP(\n",
       "          (c_fc): Conv1D()\n",
       "          (c_proj): Conv1D()\n",
       "          (act): NewGELUActivation()\n",
       "          (dropout): Dropout(p=0.1, inplace=False)\n",
       "        )\n",
       "      )\n",
       "    )\n",
       "    (ln_f): LayerNorm((768,), eps=1e-05, elementwise_affine=True)\n",
       "  )\n",
       "  (lm_head): Linear(in_features=768, out_features=50260, bias=False)\n",
       ")"
      ]
     },
     "execution_count": 27,
     "metadata": {},
     "output_type": "execute_result"
    }
   ],
   "source": [
    "total_steps = len(poem_train_dataloader) * EPOCHS\n",
    "scheduler = get_linear_schedule_with_warmup(optimizer,\n",
    "                                            num_warmup_steps=warmup_steps,\n",
    "                                            num_training_steps=total_steps)\n",
    "\n",
    "\n",
    "# Move the model to the specific device (GPU/CPU).\n",
    "model = model.to(device)\n",
    "model"
   ]
  },
  {
   "cell_type": "code",
   "execution_count": 28,
   "id": "32f4115f",
   "metadata": {
    "colab": {
     "base_uri": "https://localhost:8080/"
    },
    "id": "32f4115f",
    "outputId": "e13a3422-2b97-4c73-c4f7-6b6da816a67b"
   },
   "outputs": [
    {
     "data": {
      "text/plain": [
       "GPT2LMHeadModel(\n",
       "  (transformer): GPT2Model(\n",
       "    (wte): Embedding(50260, 768)\n",
       "    (wpe): Embedding(1024, 768)\n",
       "    (drop): Dropout(p=0.1, inplace=False)\n",
       "    (h): ModuleList(\n",
       "      (0-11): 12 x GPT2Block(\n",
       "        (ln_1): LayerNorm((768,), eps=1e-05, elementwise_affine=True)\n",
       "        (attn): GPT2Attention(\n",
       "          (c_attn): Conv1D()\n",
       "          (c_proj): Conv1D()\n",
       "          (attn_dropout): Dropout(p=0.1, inplace=False)\n",
       "          (resid_dropout): Dropout(p=0.1, inplace=False)\n",
       "        )\n",
       "        (ln_2): LayerNorm((768,), eps=1e-05, elementwise_affine=True)\n",
       "        (mlp): GPT2MLP(\n",
       "          (c_fc): Conv1D()\n",
       "          (c_proj): Conv1D()\n",
       "          (act): NewGELUActivation()\n",
       "          (dropout): Dropout(p=0.1, inplace=False)\n",
       "        )\n",
       "      )\n",
       "    )\n",
       "    (ln_f): LayerNorm((768,), eps=1e-05, elementwise_affine=True)\n",
       "  )\n",
       "  (lm_head): Linear(in_features=768, out_features=50260, bias=False)\n",
       ")"
      ]
     },
     "execution_count": 28,
     "metadata": {},
     "output_type": "execute_result"
    }
   ],
   "source": [
    "model"
   ]
  },
  {
   "cell_type": "code",
   "execution_count": 29,
   "id": "acbece0d",
   "metadata": {
    "colab": {
     "base_uri": "https://localhost:8080/"
    },
    "id": "acbece0d",
    "outputId": "270bbddb-33a5-437b-8874-448a034bf6a6"
   },
   "outputs": [
    {
     "data": {
      "text/plain": [
       "10531"
      ]
     },
     "execution_count": 29,
     "metadata": {},
     "output_type": "execute_result"
    }
   ],
   "source": [
    "len(poem_train_dataloader)"
   ]
  },
  {
   "cell_type": "code",
   "execution_count": 30,
   "id": "f2259e02",
   "metadata": {
    "colab": {
     "base_uri": "https://localhost:8080/"
    },
    "id": "f2259e02",
    "outputId": "d73b938a-10bb-41f8-e148-b2bc1edadb87",
    "scrolled": true
   },
   "outputs": [
    {
     "name": "stdout",
     "output_type": "stream",
     "text": [
      "Epoch 1 of 1\n",
      "Step: 0, Loss: 63.9736\n",
      "Step: 50, Loss: 3.1861\n",
      "Step: 100, Loss: 4.8343\n",
      "Step: 150, Loss: 3.5315\n",
      "Step: 200, Loss: 3.7344\n",
      "Step: 250, Loss: 2.9859\n",
      "Step: 300, Loss: 3.1559\n",
      "Step: 350, Loss: 2.7517\n",
      "Step: 400, Loss: 2.7633\n",
      "Step: 450, Loss: 3.5468\n",
      "Step: 500, Loss: 3.5461\n",
      "Step: 550, Loss: 3.0253\n",
      "Step: 600, Loss: 2.5290\n",
      "Step: 650, Loss: 2.4796\n",
      "Step: 700, Loss: 3.1939\n",
      "Step: 750, Loss: 3.2336\n",
      "Step: 800, Loss: 2.4816\n",
      "Step: 850, Loss: 2.6426\n",
      "Step: 900, Loss: 3.1952\n",
      "Step: 950, Loss: 2.9320\n",
      "Step: 1000, Loss: 3.1752\n",
      "Step: 1050, Loss: 2.5203\n",
      "Step: 1100, Loss: 2.9755\n",
      "Step: 1150, Loss: 2.7384\n",
      "Step: 1200, Loss: 2.7358\n",
      "Step: 1250, Loss: 3.4353\n",
      "Step: 1300, Loss: 2.3997\n",
      "Step: 1350, Loss: 3.1603\n",
      "Step: 1400, Loss: 3.0145\n",
      "Step: 1450, Loss: 3.1626\n",
      "Step: 1500, Loss: 2.8860\n",
      "Step: 1550, Loss: 3.1057\n",
      "Step: 1600, Loss: 2.8189\n",
      "Step: 1650, Loss: 2.7347\n",
      "Step: 1700, Loss: 3.0250\n",
      "Step: 1750, Loss: 2.5031\n",
      "Step: 1800, Loss: 2.6852\n",
      "Step: 1850, Loss: 2.7349\n",
      "Step: 1900, Loss: 3.0802\n",
      "Step: 1950, Loss: 2.5202\n",
      "Step: 2000, Loss: 2.3058\n",
      "Step: 2050, Loss: 2.5564\n",
      "Step: 2100, Loss: 2.6357\n",
      "Step: 2150, Loss: 3.5972\n",
      "Step: 2200, Loss: 2.3715\n",
      "Step: 2250, Loss: 2.5803\n",
      "Step: 2300, Loss: 2.4513\n",
      "Step: 2350, Loss: 3.0109\n",
      "Step: 2400, Loss: 3.2178\n",
      "Step: 2450, Loss: 2.6385\n",
      "Step: 2500, Loss: 2.7884\n",
      "Step: 2550, Loss: 3.3764\n",
      "Step: 2600, Loss: 2.2181\n",
      "Step: 2650, Loss: 2.6092\n",
      "Step: 2700, Loss: 3.6301\n",
      "Step: 2750, Loss: 3.2278\n",
      "Step: 2800, Loss: 3.1318\n",
      "Step: 2850, Loss: 3.3447\n",
      "Step: 2900, Loss: 1.8707\n",
      "Step: 2950, Loss: 2.9407\n",
      "Step: 3000, Loss: 3.0935\n",
      "Step: 3050, Loss: 2.9154\n",
      "Step: 3100, Loss: 3.0482\n",
      "Step: 3150, Loss: 2.9556\n",
      "Step: 3200, Loss: 3.3280\n",
      "Step: 3250, Loss: 3.0948\n",
      "Step: 3300, Loss: 2.1494\n",
      "Step: 3350, Loss: 2.4155\n",
      "Step: 3400, Loss: 2.7543\n",
      "Step: 3450, Loss: 2.3345\n",
      "Step: 3500, Loss: 2.7320\n",
      "Step: 3550, Loss: 2.7814\n",
      "Step: 3600, Loss: 3.4487\n",
      "Step: 3650, Loss: 3.5713\n",
      "Step: 3700, Loss: 2.6831\n",
      "Step: 3750, Loss: 2.9632\n",
      "Step: 3800, Loss: 2.5992\n",
      "Step: 3850, Loss: 2.2887\n",
      "Step: 3900, Loss: 3.2810\n",
      "Step: 3950, Loss: 2.7664\n",
      "Step: 4000, Loss: 2.5732\n",
      "Step: 4050, Loss: 2.6390\n",
      "Step: 4100, Loss: 2.5876\n",
      "Step: 4150, Loss: 3.8645\n",
      "Step: 4200, Loss: 2.5428\n",
      "Step: 4250, Loss: 2.6876\n",
      "Step: 4300, Loss: 2.4564\n",
      "Step: 4350, Loss: 2.8060\n",
      "Step: 4400, Loss: 2.8352\n",
      "Step: 4450, Loss: 3.1030\n",
      "Step: 4500, Loss: 2.2768\n",
      "Step: 4550, Loss: 2.0053\n",
      "Step: 4600, Loss: 2.2095\n",
      "Step: 4650, Loss: 2.6777\n",
      "Step: 4700, Loss: 2.7322\n",
      "Step: 4750, Loss: 2.1760\n",
      "Step: 4800, Loss: 2.4026\n",
      "Step: 4850, Loss: 3.2789\n",
      "Step: 4900, Loss: 2.8696\n",
      "Step: 4950, Loss: 2.4654\n",
      "Step: 5000, Loss: 3.2739\n",
      "Step: 5050, Loss: 2.4391\n",
      "Step: 5100, Loss: 2.7231\n",
      "Step: 5150, Loss: 2.3966\n",
      "Step: 5200, Loss: 2.7818\n",
      "Step: 5250, Loss: 2.7655\n",
      "Step: 5300, Loss: 2.7886\n",
      "Step: 5350, Loss: 2.7332\n",
      "Step: 5400, Loss: 2.2712\n",
      "Step: 5450, Loss: 3.1751\n",
      "Step: 5500, Loss: 2.4596\n",
      "Step: 5550, Loss: 2.6100\n",
      "Step: 5600, Loss: 2.8926\n",
      "Step: 5650, Loss: 2.9466\n",
      "Step: 5700, Loss: 3.2235\n",
      "Step: 5750, Loss: 2.2494\n",
      "Step: 5800, Loss: 2.6385\n",
      "Step: 5850, Loss: 3.2598\n",
      "Step: 5900, Loss: 2.8769\n",
      "Step: 5950, Loss: 2.6859\n",
      "Step: 6000, Loss: 3.7832\n",
      "Step: 6050, Loss: 2.9776\n",
      "Step: 6100, Loss: 3.2000\n",
      "Step: 6150, Loss: 2.4694\n",
      "Step: 6200, Loss: 2.4828\n",
      "Step: 6250, Loss: 2.3667\n",
      "Step: 6300, Loss: 2.8200\n",
      "Step: 6350, Loss: 2.5759\n",
      "Step: 6400, Loss: 2.6931\n",
      "Step: 6450, Loss: 2.0450\n",
      "Step: 6500, Loss: 2.5971\n",
      "Step: 6550, Loss: 2.4020\n",
      "Step: 6600, Loss: 3.2603\n",
      "Step: 6650, Loss: 2.7270\n",
      "Step: 6700, Loss: 2.3118\n",
      "Step: 6750, Loss: 2.8755\n",
      "Step: 6800, Loss: 2.3322\n",
      "Step: 6850, Loss: 2.9013\n",
      "Step: 6900, Loss: 1.9588\n",
      "Step: 6950, Loss: 2.7023\n",
      "Step: 7000, Loss: 3.1267\n",
      "Step: 7050, Loss: 2.7426\n",
      "Step: 7100, Loss: 2.2367\n",
      "Step: 7150, Loss: 2.7031\n",
      "Step: 7200, Loss: 2.3384\n",
      "Step: 7250, Loss: 3.0114\n",
      "Step: 7300, Loss: 2.1073\n",
      "Step: 7350, Loss: 2.9893\n",
      "Step: 7400, Loss: 3.0456\n",
      "Step: 7450, Loss: 2.7284\n",
      "Step: 7500, Loss: 2.5689\n",
      "Step: 7550, Loss: 3.4246\n",
      "Step: 7600, Loss: 2.7756\n",
      "Step: 7650, Loss: 2.3980\n",
      "Step: 7700, Loss: 2.7772\n",
      "Step: 7750, Loss: 3.3812\n",
      "Step: 7800, Loss: 3.1209\n",
      "Step: 7850, Loss: 2.5766\n",
      "Step: 7900, Loss: 2.6775\n",
      "Step: 7950, Loss: 3.0910\n",
      "Step: 8000, Loss: 2.2551\n",
      "Step: 8050, Loss: 2.7316\n",
      "Step: 8100, Loss: 2.3481\n",
      "Step: 8150, Loss: 2.2230\n",
      "Step: 8200, Loss: 2.6651\n",
      "Step: 8250, Loss: 2.4261\n",
      "Step: 8300, Loss: 1.9396\n",
      "Step: 8350, Loss: 1.7611\n",
      "Step: 8400, Loss: 2.4852\n",
      "Step: 8450, Loss: 3.1845\n",
      "Step: 8500, Loss: 2.4267\n",
      "Step: 8550, Loss: 2.8915\n",
      "Step: 8600, Loss: 3.0074\n",
      "Step: 8650, Loss: 2.2897\n",
      "Step: 8700, Loss: 2.4024\n",
      "Step: 8750, Loss: 3.0968\n",
      "Step: 8800, Loss: 3.0651\n",
      "Step: 8850, Loss: 2.2928\n",
      "Step: 8900, Loss: 2.4496\n",
      "Step: 8950, Loss: 2.7664\n",
      "Step: 9000, Loss: 2.4376\n",
      "Step: 9050, Loss: 1.9808\n",
      "Step: 9100, Loss: 2.4283\n",
      "Step: 9150, Loss: 2.1843\n",
      "Step: 9200, Loss: 2.4888\n",
      "Step: 9250, Loss: 2.9202\n",
      "Step: 9300, Loss: 2.3854\n",
      "Step: 9350, Loss: 2.7150\n",
      "Step: 9400, Loss: 1.9964\n",
      "Step: 9450, Loss: 1.7550\n",
      "Step: 9500, Loss: 2.7134\n",
      "Step: 9550, Loss: 2.8350\n",
      "Step: 9600, Loss: 2.7417\n",
      "Step: 9650, Loss: 2.7491\n",
      "Step: 9700, Loss: 2.9192\n",
      "Step: 9750, Loss: 2.7920\n",
      "Step: 9800, Loss: 2.1607\n",
      "Step: 9850, Loss: 2.6476\n",
      "Step: 9900, Loss: 2.9464\n",
      "Step: 9950, Loss: 2.5591\n",
      "Step: 10000, Loss: 2.7823\n",
      "Step: 10050, Loss: 2.0200\n",
      "Step: 10100, Loss: 3.1515\n",
      "Step: 10150, Loss: 2.0853\n",
      "Step: 10200, Loss: 2.3804\n",
      "Step: 10250, Loss: 2.8609\n",
      "Step: 10300, Loss: 2.6610\n",
      "Step: 10350, Loss: 2.2388\n",
      "Step: 10400, Loss: 2.8880\n",
      "Step: 10450, Loss: 2.4053\n",
      "Step: 10500, Loss: 2.3786\n",
      "Average Training Loss: 2.8039932038276674. Epoch Training Time: 0:10:40\n",
      "Average Validation Loss: 2.5111503138815636\n",
      "Epoch 2 of 1\n",
      "Step: 0, Loss: 2.7510\n",
      "Step: 50, Loss: 2.5850\n",
      "Step: 100, Loss: 2.3745\n",
      "Step: 150, Loss: 2.1285\n",
      "Step: 200, Loss: 2.4584\n",
      "Step: 250, Loss: 1.5650\n",
      "Step: 300, Loss: 2.5683\n",
      "Step: 350, Loss: 2.2601\n",
      "Step: 400, Loss: 2.3161\n",
      "Step: 450, Loss: 2.0779\n",
      "Step: 500, Loss: 2.3150\n",
      "Step: 550, Loss: 2.2795\n",
      "Step: 600, Loss: 2.5729\n",
      "Step: 650, Loss: 1.8428\n",
      "Step: 700, Loss: 1.9240\n",
      "Step: 750, Loss: 1.6405\n",
      "Step: 800, Loss: 2.3341\n",
      "Step: 850, Loss: 2.8316\n",
      "Step: 900, Loss: 1.6931\n",
      "Step: 950, Loss: 1.5674\n",
      "Step: 1000, Loss: 1.9554\n",
      "Step: 1050, Loss: 3.3946\n",
      "Step: 1100, Loss: 2.3139\n",
      "Step: 1150, Loss: 2.7441\n",
      "Step: 1200, Loss: 2.0106\n",
      "Step: 1250, Loss: 1.8675\n",
      "Step: 1300, Loss: 1.6817\n",
      "Step: 1350, Loss: 2.1174\n",
      "Step: 1400, Loss: 2.2785\n",
      "Step: 1450, Loss: 2.4502\n",
      "Step: 1500, Loss: 2.3883\n",
      "Step: 1550, Loss: 2.3119\n",
      "Step: 1600, Loss: 2.1936\n",
      "Step: 1650, Loss: 1.6178\n",
      "Step: 1700, Loss: 2.7754\n",
      "Step: 1750, Loss: 2.3616\n",
      "Step: 1800, Loss: 2.5118\n",
      "Step: 1850, Loss: 2.2741\n",
      "Step: 1900, Loss: 2.5321\n",
      "Step: 1950, Loss: 2.3646\n",
      "Step: 2000, Loss: 1.7191\n",
      "Step: 2050, Loss: 2.3254\n",
      "Step: 2100, Loss: 2.7470\n",
      "Step: 2150, Loss: 2.3785\n",
      "Step: 2200, Loss: 2.0408\n",
      "Step: 2250, Loss: 1.4447\n",
      "Step: 2300, Loss: 2.5819\n",
      "Step: 2350, Loss: 2.0569\n",
      "Step: 2400, Loss: 2.1001\n",
      "Step: 2450, Loss: 3.1032\n",
      "Step: 2500, Loss: 2.3870\n",
      "Step: 2550, Loss: 2.3118\n",
      "Step: 2600, Loss: 1.6137\n",
      "Step: 2650, Loss: 2.0655\n",
      "Step: 2700, Loss: 2.0111\n",
      "Step: 2750, Loss: 1.9556\n",
      "Step: 2800, Loss: 1.7301\n",
      "Step: 2850, Loss: 2.6066\n",
      "Step: 2900, Loss: 1.5395\n",
      "Step: 2950, Loss: 1.8705\n",
      "Step: 3000, Loss: 2.3590\n",
      "Step: 3050, Loss: 2.0616\n",
      "Step: 3100, Loss: 1.6678\n",
      "Step: 3150, Loss: 1.8767\n",
      "Step: 3200, Loss: 2.0955\n",
      "Step: 3250, Loss: 2.1662\n",
      "Step: 3300, Loss: 2.2189\n",
      "Step: 3350, Loss: 1.8396\n",
      "Step: 3400, Loss: 1.9581\n",
      "Step: 3450, Loss: 2.3027\n",
      "Step: 3500, Loss: 2.0173\n",
      "Step: 3550, Loss: 1.9029\n",
      "Step: 3600, Loss: 2.3110\n",
      "Step: 3650, Loss: 2.1722\n",
      "Step: 3700, Loss: 2.4299\n",
      "Step: 3750, Loss: 1.7544\n",
      "Step: 3800, Loss: 1.8288\n",
      "Step: 3850, Loss: 2.7418\n",
      "Step: 3900, Loss: 2.1705\n",
      "Step: 3950, Loss: 2.4019\n",
      "Step: 4000, Loss: 2.1002\n",
      "Step: 4050, Loss: 2.1295\n",
      "Step: 4100, Loss: 2.2532\n",
      "Step: 4150, Loss: 1.9502\n",
      "Step: 4200, Loss: 2.1686\n",
      "Step: 4250, Loss: 2.1812\n",
      "Step: 4300, Loss: 2.5551\n",
      "Step: 4350, Loss: 2.3839\n",
      "Step: 4400, Loss: 2.0007\n",
      "Step: 4450, Loss: 1.8543\n",
      "Step: 4500, Loss: 1.8416\n",
      "Step: 4550, Loss: 1.8047\n",
      "Step: 4600, Loss: 2.4373\n",
      "Step: 4650, Loss: 1.8779\n",
      "Step: 4700, Loss: 1.6614\n",
      "Step: 4750, Loss: 2.3684\n",
      "Step: 4800, Loss: 2.4507\n",
      "Step: 4850, Loss: 2.5688\n",
      "Step: 4900, Loss: 2.3557\n",
      "Step: 4950, Loss: 1.9382\n",
      "Step: 5000, Loss: 2.1578\n",
      "Step: 5050, Loss: 3.0590\n",
      "Step: 5100, Loss: 2.1442\n",
      "Step: 5150, Loss: 1.9580\n",
      "Step: 5200, Loss: 2.3187\n",
      "Step: 5250, Loss: 2.2894\n",
      "Step: 5300, Loss: 2.8008\n",
      "Step: 5350, Loss: 2.0892\n",
      "Step: 5400, Loss: 2.4517\n",
      "Step: 5450, Loss: 2.4668\n",
      "Step: 5500, Loss: 3.0467\n",
      "Step: 5550, Loss: 2.1353\n",
      "Step: 5600, Loss: 2.0749\n"
     ]
    },
    {
     "name": "stdout",
     "output_type": "stream",
     "text": [
      "Step: 5650, Loss: 2.1827\n",
      "Step: 5700, Loss: 2.1203\n",
      "Step: 5750, Loss: 1.9197\n",
      "Step: 5800, Loss: 2.5935\n",
      "Step: 5850, Loss: 2.2982\n",
      "Step: 5900, Loss: 2.2727\n",
      "Step: 5950, Loss: 1.9987\n",
      "Step: 6000, Loss: 2.9563\n",
      "Step: 6050, Loss: 2.1979\n",
      "Step: 6100, Loss: 2.1001\n",
      "Step: 6150, Loss: 2.5587\n",
      "Step: 6200, Loss: 2.3302\n",
      "Step: 6250, Loss: 2.4499\n",
      "Step: 6300, Loss: 2.2876\n",
      "Step: 6350, Loss: 2.2175\n",
      "Step: 6400, Loss: 1.6445\n",
      "Step: 6450, Loss: 1.6528\n",
      "Step: 6500, Loss: 1.9932\n",
      "Step: 6550, Loss: 1.7926\n",
      "Step: 6600, Loss: 1.6600\n",
      "Step: 6650, Loss: 1.5973\n",
      "Step: 6700, Loss: 1.9574\n",
      "Step: 6750, Loss: 2.4185\n",
      "Step: 6800, Loss: 3.1500\n",
      "Step: 6850, Loss: 2.7241\n",
      "Step: 6900, Loss: 2.1094\n",
      "Step: 6950, Loss: 2.6807\n",
      "Step: 7000, Loss: 1.8109\n",
      "Step: 7050, Loss: 2.8791\n",
      "Step: 7100, Loss: 2.1509\n",
      "Step: 7150, Loss: 2.7272\n",
      "Step: 7200, Loss: 2.1149\n",
      "Step: 7250, Loss: 2.2828\n",
      "Step: 7300, Loss: 2.0173\n",
      "Step: 7350, Loss: 2.4813\n",
      "Step: 7400, Loss: 2.3788\n",
      "Step: 7450, Loss: 1.8136\n",
      "Step: 7500, Loss: 2.1578\n",
      "Step: 7550, Loss: 2.6793\n",
      "Step: 7600, Loss: 2.3487\n",
      "Step: 7650, Loss: 1.7836\n",
      "Step: 7700, Loss: 2.5522\n",
      "Step: 7750, Loss: 1.7978\n",
      "Step: 7800, Loss: 2.2843\n",
      "Step: 7850, Loss: 1.9887\n",
      "Step: 7900, Loss: 2.4382\n",
      "Step: 7950, Loss: 2.8775\n",
      "Step: 8000, Loss: 2.5067\n",
      "Step: 8050, Loss: 2.4220\n",
      "Step: 8100, Loss: 2.4150\n",
      "Step: 8150, Loss: 2.5322\n",
      "Step: 8200, Loss: 2.6055\n",
      "Step: 8250, Loss: 2.1209\n",
      "Step: 8300, Loss: 2.0088\n",
      "Step: 8350, Loss: 2.2549\n",
      "Step: 8400, Loss: 2.4206\n",
      "Step: 8450, Loss: 2.1559\n",
      "Step: 8500, Loss: 2.1824\n",
      "Step: 8550, Loss: 2.2177\n",
      "Step: 8600, Loss: 2.0738\n",
      "Step: 8650, Loss: 2.9601\n",
      "Step: 8700, Loss: 2.8723\n",
      "Step: 8750, Loss: 1.9331\n",
      "Step: 8800, Loss: 2.4624\n",
      "Step: 8850, Loss: 2.4550\n",
      "Step: 8900, Loss: 2.5845\n",
      "Step: 8950, Loss: 2.4479\n",
      "Step: 9000, Loss: 1.9300\n",
      "Step: 9050, Loss: 1.8713\n",
      "Step: 9100, Loss: 2.8546\n",
      "Step: 9150, Loss: 1.9396\n",
      "Step: 9200, Loss: 2.3388\n",
      "Step: 9250, Loss: 2.0315\n",
      "Step: 9300, Loss: 1.7227\n",
      "Step: 9350, Loss: 2.6888\n",
      "Step: 9400, Loss: 2.6191\n",
      "Step: 9450, Loss: 2.2633\n",
      "Step: 9500, Loss: 2.2019\n",
      "Step: 9550, Loss: 1.8882\n",
      "Step: 9600, Loss: 1.4380\n",
      "Step: 9650, Loss: 2.1662\n",
      "Step: 9700, Loss: 2.2097\n",
      "Step: 9750, Loss: 2.0643\n",
      "Step: 9800, Loss: 2.2867\n",
      "Step: 9850, Loss: 2.3410\n",
      "Step: 9900, Loss: 2.2125\n",
      "Step: 9950, Loss: 2.3998\n",
      "Step: 10000, Loss: 2.4784\n",
      "Step: 10050, Loss: 2.6592\n",
      "Step: 10100, Loss: 2.1631\n",
      "Step: 10150, Loss: 1.5206\n",
      "Step: 10200, Loss: 1.6018\n",
      "Step: 10250, Loss: 2.8328\n",
      "Step: 10300, Loss: 2.3557\n",
      "Step: 10350, Loss: 2.8384\n",
      "Step: 10400, Loss: 2.0904\n",
      "Step: 10450, Loss: 1.9937\n",
      "Step: 10500, Loss: 2.3184\n",
      "Average Training Loss: 2.20585483664088. Epoch Training Time: 0:10:21\n",
      "Average Validation Loss: 2.5111503138815636\n",
      "Epoch 3 of 1\n",
      "Step: 0, Loss: 1.7391\n",
      "Step: 50, Loss: 1.8959\n",
      "Step: 100, Loss: 3.3419\n",
      "Step: 150, Loss: 2.0265\n",
      "Step: 200, Loss: 1.8340\n",
      "Step: 250, Loss: 1.9231\n",
      "Step: 300, Loss: 1.8562\n",
      "Step: 350, Loss: 2.3548\n",
      "Step: 400, Loss: 2.7216\n",
      "Step: 450, Loss: 2.2811\n",
      "Step: 500, Loss: 2.6509\n",
      "Step: 550, Loss: 2.3567\n",
      "Step: 600, Loss: 2.1833\n",
      "Step: 650, Loss: 1.7761\n",
      "Step: 700, Loss: 1.6052\n",
      "Step: 750, Loss: 2.0788\n",
      "Step: 800, Loss: 2.4073\n",
      "Step: 850, Loss: 2.3804\n",
      "Step: 900, Loss: 2.7759\n",
      "Step: 950, Loss: 2.4778\n",
      "Step: 1000, Loss: 1.7986\n",
      "Step: 1050, Loss: 2.2255\n",
      "Step: 1100, Loss: 2.3187\n",
      "Step: 1150, Loss: 2.5004\n",
      "Step: 1200, Loss: 2.0831\n",
      "Step: 1250, Loss: 2.6127\n",
      "Step: 1300, Loss: 1.5576\n",
      "Step: 1350, Loss: 2.4221\n",
      "Step: 1400, Loss: 2.5309\n",
      "Step: 1450, Loss: 2.2918\n",
      "Step: 1500, Loss: 1.7724\n",
      "Step: 1550, Loss: 2.7402\n",
      "Step: 1600, Loss: 2.4929\n",
      "Step: 1650, Loss: 2.0132\n",
      "Step: 1700, Loss: 2.4025\n",
      "Step: 1750, Loss: 2.4561\n",
      "Step: 1800, Loss: 1.9916\n",
      "Step: 1850, Loss: 2.3037\n",
      "Step: 1900, Loss: 2.0629\n",
      "Step: 1950, Loss: 2.2821\n",
      "Step: 2000, Loss: 1.9854\n",
      "Step: 2050, Loss: 2.2081\n",
      "Step: 2100, Loss: 2.9882\n",
      "Step: 2150, Loss: 1.9399\n",
      "Step: 2200, Loss: 2.5693\n",
      "Step: 2250, Loss: 1.4217\n",
      "Step: 2300, Loss: 2.1612\n",
      "Step: 2350, Loss: 1.6920\n",
      "Step: 2400, Loss: 1.7367\n",
      "Step: 2450, Loss: 2.1562\n",
      "Step: 2500, Loss: 1.9956\n",
      "Step: 2550, Loss: 2.3034\n",
      "Step: 2600, Loss: 2.1155\n",
      "Step: 2650, Loss: 2.4368\n",
      "Step: 2700, Loss: 2.1428\n",
      "Step: 2750, Loss: 1.8718\n",
      "Step: 2800, Loss: 2.3196\n",
      "Step: 2850, Loss: 2.5342\n",
      "Step: 2900, Loss: 2.3927\n",
      "Step: 2950, Loss: 2.3083\n",
      "Step: 3000, Loss: 2.0274\n",
      "Step: 3050, Loss: 2.7023\n",
      "Step: 3100, Loss: 2.2114\n",
      "Step: 3150, Loss: 2.4953\n",
      "Step: 3200, Loss: 1.8309\n",
      "Step: 3250, Loss: 1.6049\n",
      "Step: 3300, Loss: 2.0481\n",
      "Step: 3350, Loss: 1.7870\n",
      "Step: 3400, Loss: 1.5287\n",
      "Step: 3450, Loss: 2.0879\n",
      "Step: 3500, Loss: 2.0720\n",
      "Step: 3550, Loss: 2.1544\n",
      "Step: 3600, Loss: 1.7982\n",
      "Step: 3650, Loss: 2.4067\n",
      "Step: 3700, Loss: 2.5147\n",
      "Step: 3750, Loss: 2.5613\n",
      "Step: 3800, Loss: 2.1172\n",
      "Step: 3850, Loss: 2.5141\n",
      "Step: 3900, Loss: 2.5065\n",
      "Step: 3950, Loss: 2.1199\n",
      "Step: 4000, Loss: 1.6732\n",
      "Step: 4050, Loss: 2.3481\n",
      "Step: 4100, Loss: 2.8478\n",
      "Step: 4150, Loss: 1.9522\n",
      "Step: 4200, Loss: 2.3946\n",
      "Step: 4250, Loss: 2.1352\n",
      "Step: 4300, Loss: 2.1082\n",
      "Step: 4350, Loss: 2.8380\n",
      "Step: 4400, Loss: 2.2578\n",
      "Step: 4450, Loss: 2.5757\n",
      "Step: 4500, Loss: 2.4677\n",
      "Step: 4550, Loss: 2.3112\n",
      "Step: 4600, Loss: 2.5522\n",
      "Step: 4650, Loss: 2.7833\n",
      "Step: 4700, Loss: 2.2762\n",
      "Step: 4750, Loss: 2.5936\n",
      "Step: 4800, Loss: 2.2642\n",
      "Step: 4850, Loss: 1.6752\n",
      "Step: 4900, Loss: 2.2959\n",
      "Step: 4950, Loss: 2.3926\n",
      "Step: 5000, Loss: 2.1010\n",
      "Step: 5050, Loss: 1.8561\n",
      "Step: 5100, Loss: 3.2182\n",
      "Step: 5150, Loss: 2.1434\n",
      "Step: 5200, Loss: 1.7540\n",
      "Step: 5250, Loss: 2.3934\n",
      "Step: 5300, Loss: 1.6853\n",
      "Step: 5350, Loss: 1.5282\n",
      "Step: 5400, Loss: 1.9846\n",
      "Step: 5450, Loss: 2.3022\n",
      "Step: 5500, Loss: 1.5217\n",
      "Step: 5550, Loss: 2.8132\n",
      "Step: 5600, Loss: 2.0801\n",
      "Step: 5650, Loss: 1.9654\n",
      "Step: 5700, Loss: 1.6410\n",
      "Step: 5750, Loss: 2.2059\n",
      "Step: 5800, Loss: 2.2045\n",
      "Step: 5850, Loss: 1.8920\n",
      "Step: 5900, Loss: 2.4578\n",
      "Step: 5950, Loss: 2.0195\n",
      "Step: 6000, Loss: 1.8630\n",
      "Step: 6050, Loss: 1.5096\n",
      "Step: 6100, Loss: 2.8387\n",
      "Step: 6150, Loss: 1.9623\n",
      "Step: 6200, Loss: 2.7623\n",
      "Step: 6250, Loss: 1.7527\n",
      "Step: 6300, Loss: 2.3053\n",
      "Step: 6350, Loss: 1.9863\n",
      "Step: 6400, Loss: 1.8630\n",
      "Step: 6450, Loss: 2.1897\n",
      "Step: 6500, Loss: 2.0989\n",
      "Step: 6550, Loss: 2.3411\n",
      "Step: 6600, Loss: 2.8972\n",
      "Step: 6650, Loss: 2.0539\n",
      "Step: 6700, Loss: 2.3513\n",
      "Step: 6750, Loss: 1.8405\n",
      "Step: 6800, Loss: 2.7799\n",
      "Step: 6850, Loss: 1.9726\n",
      "Step: 6900, Loss: 2.4017\n",
      "Step: 6950, Loss: 2.1422\n",
      "Step: 7000, Loss: 2.8379\n",
      "Step: 7050, Loss: 2.1052\n",
      "Step: 7100, Loss: 1.7409\n",
      "Step: 7150, Loss: 2.7039\n",
      "Step: 7200, Loss: 2.3147\n",
      "Step: 7250, Loss: 2.2371\n",
      "Step: 7300, Loss: 2.1363\n",
      "Step: 7350, Loss: 1.7647\n",
      "Step: 7400, Loss: 2.4534\n",
      "Step: 7450, Loss: 1.8128\n",
      "Step: 7500, Loss: 2.7141\n",
      "Step: 7550, Loss: 2.2647\n",
      "Step: 7600, Loss: 2.3353\n",
      "Step: 7650, Loss: 2.1989\n",
      "Step: 7700, Loss: 1.9827\n",
      "Step: 7750, Loss: 2.4293\n",
      "Step: 7800, Loss: 2.5350\n",
      "Step: 7850, Loss: 2.9475\n",
      "Step: 7900, Loss: 2.2442\n",
      "Step: 7950, Loss: 2.1506\n",
      "Step: 8000, Loss: 2.1146\n",
      "Step: 8050, Loss: 1.8362\n",
      "Step: 8100, Loss: 2.0461\n",
      "Step: 8150, Loss: 2.2814\n",
      "Step: 8200, Loss: 2.6587\n",
      "Step: 8250, Loss: 2.3241\n",
      "Step: 8300, Loss: 2.2256\n",
      "Step: 8350, Loss: 2.0004\n",
      "Step: 8400, Loss: 1.7827\n",
      "Step: 8450, Loss: 2.1354\n",
      "Step: 8500, Loss: 1.7380\n",
      "Step: 8550, Loss: 2.1490\n",
      "Step: 8600, Loss: 1.8994\n",
      "Step: 8650, Loss: 1.8232\n",
      "Step: 8700, Loss: 1.9986\n",
      "Step: 8750, Loss: 1.7859\n",
      "Step: 8800, Loss: 2.4432\n",
      "Step: 8850, Loss: 2.1858\n",
      "Step: 8900, Loss: 2.2276\n",
      "Step: 8950, Loss: 1.8773\n",
      "Step: 9000, Loss: 2.0267\n",
      "Step: 9050, Loss: 2.5278\n",
      "Step: 9100, Loss: 2.3294\n",
      "Step: 9150, Loss: 2.6771\n",
      "Step: 9200, Loss: 1.8185\n",
      "Step: 9250, Loss: 2.4581\n",
      "Step: 9300, Loss: 1.7695\n",
      "Step: 9350, Loss: 2.6871\n",
      "Step: 9400, Loss: 1.7393\n",
      "Step: 9450, Loss: 2.2390\n",
      "Step: 9500, Loss: 1.9593\n",
      "Step: 9550, Loss: 2.1040\n",
      "Step: 9600, Loss: 2.8678\n",
      "Step: 9650, Loss: 1.4471\n",
      "Step: 9700, Loss: 1.8930\n",
      "Step: 9750, Loss: 1.7838\n",
      "Step: 9800, Loss: 2.6360\n",
      "Step: 9850, Loss: 1.8480\n",
      "Step: 9900, Loss: 1.4795\n",
      "Step: 9950, Loss: 1.8024\n",
      "Step: 10000, Loss: 2.7839\n",
      "Step: 10050, Loss: 1.9745\n",
      "Step: 10100, Loss: 1.9371\n",
      "Step: 10150, Loss: 1.6979\n",
      "Step: 10200, Loss: 1.9632\n",
      "Step: 10250, Loss: 3.0669\n",
      "Step: 10300, Loss: 2.6591\n",
      "Step: 10350, Loss: 1.8030\n",
      "Step: 10400, Loss: 2.6213\n",
      "Step: 10450, Loss: 2.3932\n",
      "Step: 10500, Loss: 2.6903\n",
      "Average Training Loss: 2.2043878680087823. Epoch Training Time: 0:10:12\n",
      "Average Validation Loss: 2.5111503138815636\n",
      "Total Training Time: 0:32:43\n"
     ]
    }
   ],
   "source": [
    "# Initialize an empty list to hold the losses during training\n",
    "losses = []\n",
    "valid_losses =[]\n",
    "start_time = time.time()\n",
    "\n",
    "for epoch_i in range(0, 3):\n",
    "\n",
    "    print(f'Epoch {epoch_i + 1} of {EPOCHS}')\n",
    "\n",
    "    t0 = time.time()\n",
    "\n",
    "    # Reset the total training loss for this epoch\n",
    "    total_train_loss = 0\n",
    "\n",
    "    model.train()\n",
    "\n",
    "    # Loop over each batch from the training data loader\n",
    "    for step, batch in enumerate(poem_train_dataloader):\n",
    "\n",
    "        b_input_ids = batch[0].to(device)\n",
    "        b_labels = batch[0].to(device)\n",
    "        b_masks = batch[1].to(device)\n",
    "\n",
    "        # Clear out the gradients from the previous training step\n",
    "        model.zero_grad()\n",
    "\n",
    "        outputs = model(b_input_ids, labels=b_labels, attention_mask=b_masks, token_type_ids=None)\n",
    "\n",
    "        # Extract the loss from the outputs\n",
    "        loss = outputs[0]\n",
    "\n",
    "        # Extract and accumulate the total loss\n",
    "        batch_loss = loss.item()\n",
    "        total_train_loss += batch_loss\n",
    "\n",
    "        loss.backward()\n",
    "\n",
    "        optimizer.step()\n",
    "\n",
    "        # Update the learning rate\n",
    "        scheduler.step()\n",
    "\n",
    "        losses.append(loss.item())\n",
    "\n",
    "\n",
    "        if step % 50 == 0:\n",
    "            print(f\"Step: {step}, Loss: {loss.item():.4f}\")\n",
    "\n",
    "#         if step>2000:\n",
    "#             break\n",
    "\n",
    "    # avg for this epoch\n",
    "    avg_train_loss = total_train_loss / len(poem_train_dataloader)\n",
    "\n",
    "\n",
    "    training_time = format_time(time.time() - t0)\n",
    "\n",
    "\n",
    "    print(f'Average Training Loss: {avg_train_loss}. Epoch Training Time: {training_time}')\n",
    "\n",
    "    model.eval()\n",
    "\n",
    "    # Reset the total validation loss\n",
    "    total_eval_loss = 0\n",
    "    nb_eval_steps = 0\n",
    "\n",
    "\n",
    "    for batch in poem_val_dataloader:\n",
    "        b_input_ids = batch[0].to(device)\n",
    "        b_labels = batch[0].to(device)\n",
    "        b_masks = batch[1].to(device)\n",
    "\n",
    "        with torch.no_grad():\n",
    "\n",
    "            # Forward pass\n",
    "            outputs  = model(b_input_ids, attention_mask=b_masks, labels=b_labels)\n",
    "\n",
    "            loss = outputs[0]\n",
    "\n",
    "\n",
    "        batch_loss = loss.item()\n",
    "        total_eval_loss += batch_loss\n",
    "        valid_losses.append(batch_loss)\n",
    "\n",
    "    # avg validation loss for this epoch\n",
    "    avg_val_loss = total_eval_loss / len(poem_val_dataloader)\n",
    "\n",
    "    print(f'Average Validation Loss: {avg_val_loss}')\n",
    "    torch.save(model.state_dict(),  'gpt2_model_topicwise.pth')\n",
    "\n",
    "print(f'Total Training Time: {format_time(time.time()-start_time)}')\n"
   ]
  },
  {
   "cell_type": "code",
   "execution_count": 31,
   "id": "12fa95c1",
   "metadata": {
    "id": "12fa95c1"
   },
   "outputs": [],
   "source": [
    "import matplotlib.pyplot as plt"
   ]
  },
  {
   "cell_type": "code",
   "execution_count": 32,
   "id": "71607402",
   "metadata": {
    "colab": {
     "base_uri": "https://localhost:8080/"
    },
    "id": "71607402",
    "outputId": "8049251d-ce32-49f3-c87a-bda23889ac1f"
   },
   "outputs": [
    {
     "data": {
      "text/plain": [
       "31593"
      ]
     },
     "execution_count": 32,
     "metadata": {},
     "output_type": "execute_result"
    }
   ],
   "source": [
    "len(losses)"
   ]
  },
  {
   "cell_type": "code",
   "execution_count": null,
   "id": "cbeb4bb8",
   "metadata": {
    "id": "cbeb4bb8"
   },
   "outputs": [],
   "source": []
  },
  {
   "cell_type": "code",
   "execution_count": 33,
   "id": "cda41853",
   "metadata": {
    "colab": {
     "base_uri": "https://localhost:8080/",
     "height": 472
    },
    "id": "cda41853",
    "outputId": "6aa63f0c-9e1c-459b-812f-95f6cc3599be"
   },
   "outputs": [
    {
     "data": {
      "image/png": "[encoded data removed]",
      "text/plain": [
       "<Figure size 640x480 with 1 Axes>"
      ]
     },
     "metadata": {},
     "output_type": "display_data"
    }
   ],
   "source": [
    "x = np.arange(len(losses)) * (max_length * BATCH_SIZE)\n",
    "\n",
    "# Plot the line chart\n",
    "plt.plot(x, losses)\n",
    "plt.xlabel('Tokens')\n",
    "plt.ylabel('Loss')\n",
    "plt.title('Training curve for my model!')\n",
    "plt.show()"
   ]
  },
  {
   "cell_type": "markdown",
   "id": "a521cb4e",
   "metadata": {
    "id": "a521cb4e"
   },
   "source": [
    "## The loss at the beginning of the epoch is already low because it has been retrained again from previous run."
   ]
  },
  {
   "cell_type": "code",
   "execution_count": 34,
   "id": "60386e75",
   "metadata": {
    "colab": {
     "base_uri": "https://localhost:8080/",
     "height": 472
    },
    "id": "60386e75",
    "outputId": "45cd7a2f-f508-481e-8120-eaaf811552b2"
   },
   "outputs": [
    {
     "data": {
      "image/png": "[encoded data removed]",
      "text/plain": [
       "<Figure size 640x480 with 1 Axes>"
      ]
     },
     "metadata": {},
     "output_type": "display_data"
    }
   ],
   "source": [
    "plt.hist(losses, bins=50, alpha=0.7, label='Training Loss')\n",
    "plt.hist(valid_losses, bins=50, alpha=0.7, label='Validation Loss')\n",
    "plt.xlabel('Loss')\n",
    "plt.ylabel('Frequency')\n",
    "plt.title('Histogram of Losses')\n",
    "plt.legend()\n",
    "plt.show()"
   ]
  },
  {
   "cell_type": "code",
   "execution_count": 35,
   "id": "58f9e78a",
   "metadata": {
    "colab": {
     "base_uri": "https://localhost:8080/",
     "height": 452
    },
    "id": "58f9e78a",
    "outputId": "1503f59c-7a90-4bf0-d048-b44f56bf792d"
   },
   "outputs": [
    {
     "data": {
      "image/png": "[encoded data removed]",
      "text/plain": [
       "<Figure size 640x480 with 1 Axes>"
      ]
     },
     "metadata": {},
     "output_type": "display_data"
    }
   ],
   "source": [
    "plt.boxplot([losses, valid_losses], labels=['Training Loss', 'Validation Loss'])\n",
    "plt.ylabel('Loss')\n",
    "plt.title('Box Plot of Losses')\n",
    "plt.show()"
   ]
  },
  {
   "cell_type": "code",
   "execution_count": 36,
   "id": "e58c05e9",
   "metadata": {
    "colab": {
     "base_uri": "https://localhost:8080/"
    },
    "id": "e58c05e9",
    "outputId": "03b837bf-2a81-4adf-eec8-971423cb2df5"
   },
   "outputs": [
    {
     "name": "stdout",
     "output_type": "stream",
     "text": [
      "Training Perplexity: 2.1468870141865035\n",
      "Validation Perplexity: 2.387623166284294\n"
     ]
    }
   ],
   "source": [
    "train_avg_loss = total_train_loss / len(poem_train_dataloader.dataset)\n",
    "train_perplexity = 2 ** train_avg_loss  # Perplexity formula: 2^average_loss_per_token\n",
    "\n",
    "val_avg_loss = total_eval_loss / len(poem_val_dataloader.dataset)\n",
    "val_perplexity = 2 ** val_avg_loss\n",
    "\n",
    "print(f'Training Perplexity: {train_perplexity}')\n",
    "print(f'Validation Perplexity: {val_perplexity}')"
   ]
  },
  {
   "cell_type": "code",
   "execution_count": 87,
   "id": "5ab83c8e",
   "metadata": {
    "id": "5ab83c8e"
   },
   "outputs": [],
   "source": []
  },
  {
   "cell_type": "code",
   "execution_count": 87,
   "id": "23067470",
   "metadata": {
    "id": "23067470"
   },
   "outputs": [],
   "source": []
  },
  {
   "cell_type": "code",
   "execution_count": 88,
   "id": "613df1d2",
   "metadata": {
    "id": "613df1d2"
   },
   "outputs": [],
   "source": []
  },
  {
   "cell_type": "code",
   "execution_count": 37,
   "id": "920204ba",
   "metadata": {
    "colab": {
     "base_uri": "https://localhost:8080/"
    },
    "id": "920204ba",
    "outputId": "b9bb632c-a969-4112-b42b-7ca9ed54a188"
   },
   "outputs": [
    {
     "name": "stderr",
     "output_type": "stream",
     "text": [
      "C:\\Users\\OMEN\\anaconda3\\envs\\fastaging\\Lib\\site-packages\\transformers\\generation\\utils.py:1411: UserWarning: You have modified the pretrained model configuration to control generation. This is a deprecated strategy to control generation and will be removed soon, in a future version. Please use a generation configuration file (see https://huggingface.co/docs/transformers/main_classes/text_generation )\n",
      "  warnings.warn(\n",
      "The attention mask and the pad token id were not set. As a consequence, you may observe unexpected behavior. Please pass your input's `attention_mask` to obtain reliable results.\n",
      "Setting `pad_token_id` to `eos_token_id`:50256 for open-end generation.\n",
      "The attention mask and the pad token id were not set. As a consequence, you may observe unexpected behavior. Please pass your input's `attention_mask` to obtain reliable results.\n",
      "Setting `pad_token_id` to `eos_token_id`:50256 for open-end generation.\n"
     ]
    },
    {
     "name": "stdout",
     "output_type": "stream",
     "text": [
      "0: Blue sky. / autumn shades of the sky. / gray sky and sea of the sky\n",
      "\n",
      "\n",
      "1: Blue sky. / blue sky sky and sun in. / autumn and gold clouds of joy\n",
      "\n",
      "\n",
      "2: Blue sky. / the earth in the sky. / as a golden storm clouds\n",
      "\n",
      "\n"
     ]
    },
    {
     "name": "stderr",
     "output_type": "stream",
     "text": [
      "The attention mask and the pad token id were not set. As a consequence, you may observe unexpected behavior. Please pass your input's `attention_mask` to obtain reliable results.\n",
      "Setting `pad_token_id` to `eos_token_id`:50256 for open-end generation.\n"
     ]
    },
    {
     "name": "stdout",
     "output_type": "stream",
     "text": [
      "0: Life and sadness. /  the love in each other. / as much as you have\n",
      "\n",
      "\n",
      "1: Life and sadness. /  magic comes true god comes. / in again i cant\n",
      "\n",
      "\n",
      "2: Life and sadness. /  happiness were the same. / same before the past it was\n",
      "\n",
      "\n",
      "0: Wild water ive been drinking. /  in a couple weeks this week. / but im not over\n",
      "\n",
      "\n",
      "1: Wild water ikanida. /  and then i have to go back. / from the sun when the sun\n",
      "\n",
      "\n",
      "2: Wild water iced coffee. /  and chicken oil with wine with sweet. / socks and butterbread\n",
      "\n",
      "\n"
     ]
    }
   ],
   "source": [
    "device = torch.device(\"cuda\" if torch.cuda.is_available() else \"cpu\")\n",
    "\n",
    "model = model.to(device)\n",
    "\n",
    "# create text generation seed promp\n",
    "prompts = [\"<BOS> Blue sky\",\"<BOS> Life and sadness\",\"<BOS> Wild water \"]\n",
    "for prompt in prompts:\n",
    "    generated = torch.tensor(tokenizer.encode(prompt)).unsqueeze(0)\n",
    "    generated = generated.to(device)\n",
    "\n",
    "    sample_outputs = model.generate(\n",
    "                                    generated,\n",
    "                                    do_sample=True,\n",
    "                                    top_k=50,\n",
    "                                    max_length=max_length,\n",
    "                                    top_p=0.95,\n",
    "                                    num_return_sequences=3\n",
    "                                    )\n",
    "\n",
    "    # print(tokenizer.decode(sample_outputs[0], skip_special_tokens=True))\n",
    "\n",
    "    for i, sample_output in enumerate(sample_outputs):\n",
    "        print(\"{}: {}\\n\\n\".format(i, tokenizer.decode(sample_output, skip_special_tokens=True)))"
   ]
  },
  {
   "cell_type": "code",
   "execution_count": 42,
   "id": "7071a1b5",
   "metadata": {},
   "outputs": [
    {
     "data": {
      "text/plain": [
       "Index(['Unnamed: 0', '0', '1', '2', 'source', 'hash', 'topic1', 'topic2',\n",
       "       'topic3', 'topic4', 'topic5', 'topic6', 'topic7', 'topic8', 'topic9',\n",
       "       'topic10', 'topic11', 'topic12', 'topic13', 'topic14', 'topic15',\n",
       "       'best topic', 'best probability'],\n",
       "      dtype='object')"
      ]
     },
     "execution_count": 42,
     "metadata": {},
     "output_type": "execute_result"
    }
   ],
   "source": [
    "df.columns"
   ]
  },
  {
   "cell_type": "code",
   "execution_count": 49,
   "id": "3af64f5d",
   "metadata": {},
   "outputs": [
    {
     "data": {
      "text/plain": [
       "['topic1',\n",
       " 'topic2',\n",
       " 'topic3',\n",
       " 'topic4',\n",
       " 'topic5',\n",
       " 'topic6',\n",
       " 'topic7',\n",
       " 'topic8',\n",
       " 'topic9',\n",
       " 'topic10',\n",
       " 'topic11',\n",
       " 'topic12',\n",
       " 'topic13',\n",
       " 'topic14',\n",
       " 'topic15']"
      ]
     },
     "execution_count": 49,
     "metadata": {},
     "output_type": "execute_result"
    }
   ],
   "source": [
    "a = df.columns[6:21].astype(str).to_numpy().tolist()\n",
    "type(a)\n",
    "a"
   ]
  },
  {
   "cell_type": "code",
   "execution_count": null,
   "id": "5ad26e42",
   "metadata": {},
   "outputs": [],
   "source": []
  },
  {
   "cell_type": "code",
   "execution_count": null,
   "id": "61917901",
   "metadata": {},
   "outputs": [],
   "source": []
  },
  {
   "cell_type": "code",
   "execution_count": 50,
   "id": "83c042b8",
   "metadata": {
    "colab": {
     "base_uri": "https://localhost:8080/"
    },
    "id": "83c042b8",
    "outputId": "43a4fae3-8ae9-4636-c8cf-2badaf3ab65d",
    "scrolled": false
   },
   "outputs": [
    {
     "name": "stderr",
     "output_type": "stream",
     "text": [
      "The attention mask and the pad token id were not set. As a consequence, you may observe unexpected behavior. Please pass your input's `attention_mask` to obtain reliable results.\n",
      "Setting `pad_token_id` to `eos_token_id`:50256 for open-end generation.\n",
      "The attention mask and the pad token id were not set. As a consequence, you may observe unexpected behavior. Please pass your input's `attention_mask` to obtain reliable results.\n",
      "Setting `pad_token_id` to `eos_token_id`:50256 for open-end generation.\n"
     ]
    },
    {
     "name": "stdout",
     "output_type": "stream",
     "text": [
      "0: topic1 = someone tell me how. /  long. / it is to walk home with my dog\n",
      "\n",
      "\n",
      "1: topic1 = if only you were. /  the one that werent in theirs. / on this list your phone\n",
      "\n",
      "\n",
      "2: topic1 = i actually. /  dont think im gonna get out. / of my heart i cant\n",
      "\n",
      "\n"
     ]
    },
    {
     "name": "stderr",
     "output_type": "stream",
     "text": [
      "The attention mask and the pad token id were not set. As a consequence, you may observe unexpected behavior. Please pass your input's `attention_mask` to obtain reliable results.\n",
      "Setting `pad_token_id` to `eos_token_id`:50256 for open-end generation.\n"
     ]
    },
    {
     "name": "stdout",
     "output_type": "stream",
     "text": [
      "0: topic2 = i actually. /  got a headache i just. / want it to go back\n",
      "\n",
      "\n",
      "1: topic2 = this is a wonderful. /  song today and i hope it. / gets better or better\n",
      "\n",
      "\n",
      "2: topic2 = youre having fun. /  with some of the best friends and. / all the love has come\n",
      "\n",
      "\n"
     ]
    },
    {
     "name": "stderr",
     "output_type": "stream",
     "text": [
      "The attention mask and the pad token id were not set. As a consequence, you may observe unexpected behavior. Please pass your input's `attention_mask` to obtain reliable results.\n",
      "Setting `pad_token_id` to `eos_token_id`:50256 for open-end generation.\n"
     ]
    },
    {
     "name": "stdout",
     "output_type": "stream",
     "text": [
      "0: topic3 = i gotta give up. /  to you if you cant keep. / that shit up right now\n",
      "\n",
      "\n",
      "1: topic3 = aaron has been. /  on me since i said the song. / he called the new bro\n",
      "\n",
      "\n",
      "2: topic3 = this is exactly. /  what the best feeling ive ever. / seen after all that\n",
      "\n",
      "\n"
     ]
    },
    {
     "name": "stderr",
     "output_type": "stream",
     "text": [
      "The attention mask and the pad token id were not set. As a consequence, you may observe unexpected behavior. Please pass your input's `attention_mask` to obtain reliable results.\n",
      "Setting `pad_token_id` to `eos_token_id`:50256 for open-end generation.\n"
     ]
    },
    {
     "name": "stdout",
     "output_type": "stream",
     "text": [
      "0: topic4 = im literally. /  so tired i havent been. / in a long week time\n",
      "\n",
      "\n",
      "1: topic4 = the problem with the. /  new is that you cant see the. / world in a better\n",
      "\n",
      "\n",
      "2: topic4 = the only person. /  i have to go to is my. / mama i mean im\n",
      "\n",
      "\n"
     ]
    },
    {
     "name": "stderr",
     "output_type": "stream",
     "text": [
      "The attention mask and the pad token id were not set. As a consequence, you may observe unexpected behavior. Please pass your input's `attention_mask` to obtain reliable results.\n",
      "Setting `pad_token_id` to `eos_token_id`:50256 for open-end generation.\n"
     ]
    },
    {
     "name": "stdout",
     "output_type": "stream",
     "text": [
      "0: topic5 = theres only a single. /  girl there who loves me and. / all of her beautiful\n",
      "\n",
      "\n",
      "1: topic5 = its very funny. /  when we both know we got so. / much for god i want\n",
      "\n",
      "\n",
      "2: topic5 = if i ever say. /  i need you i feel like im. / too much for you to\n",
      "\n",
      "\n"
     ]
    },
    {
     "name": "stderr",
     "output_type": "stream",
     "text": [
      "The attention mask and the pad token id were not set. As a consequence, you may observe unexpected behavior. Please pass your input's `attention_mask` to obtain reliable results.\n",
      "Setting `pad_token_id` to `eos_token_id`:50256 for open-end generation.\n"
     ]
    },
    {
     "name": "stdout",
     "output_type": "stream",
     "text": [
      "0: topic6 = im really trying. /  to give myself a hug and. / love my boyfriend\n",
      "\n",
      "\n",
      "1: topic6 = i really hope you. /  had me in this mood thats what. / i dont have in life\n",
      "\n",
      "\n",
      "2: topic6 = its amazing. /  in life to be knowing someone. / doesnt give it no\n",
      "\n",
      "\n"
     ]
    },
    {
     "name": "stderr",
     "output_type": "stream",
     "text": [
      "The attention mask and the pad token id were not set. As a consequence, you may observe unexpected behavior. Please pass your input's `attention_mask` to obtain reliable results.\n",
      "Setting `pad_token_id` to `eos_token_id`:50256 for open-end generation.\n"
     ]
    },
    {
     "name": "stdout",
     "output_type": "stream",
     "text": [
      "0: topic7 = is it normal to. /  just feel like my girlfriend i. / am just trying to\n",
      "\n",
      "\n",
      "1: topic7 = i really want to. /  go back to the year before. / i was in highschool\n",
      "\n",
      "\n",
      "2: topic7 = im so excited. /  for the gym i hope to get. / up early next year\n",
      "\n",
      "\n"
     ]
    },
    {
     "name": "stderr",
     "output_type": "stream",
     "text": [
      "The attention mask and the pad token id were not set. As a consequence, you may observe unexpected behavior. Please pass your input's `attention_mask` to obtain reliable results.\n",
      "Setting `pad_token_id` to `eos_token_id`:50256 for open-end generation.\n"
     ]
    },
    {
     "name": "stdout",
     "output_type": "stream",
     "text": [
      "0: topic8 = a coyote. /  on a grass of cotton milk. / is sweet im sad bitch\n",
      "\n",
      "\n",
      "1: topic8 = honestly im in. /  a hot house all the time. / its my birthday gifts\n",
      "\n",
      "\n",
      "2: topic8 = it feels better to. /  be off or to be there for. / the rest of the day\n",
      "\n",
      "\n"
     ]
    },
    {
     "name": "stderr",
     "output_type": "stream",
     "text": [
      "The attention mask and the pad token id were not set. As a consequence, you may observe unexpected behavior. Please pass your input's `attention_mask` to obtain reliable results.\n",
      "Setting `pad_token_id` to `eos_token_id`:50256 for open-end generation.\n"
     ]
    },
    {
     "name": "stdout",
     "output_type": "stream",
     "text": [
      "0: topic9 = when people say they. /  need me to see people i. / think i would be mad\n",
      "\n",
      "\n",
      "1: topic9 = i dont even know. /  how much worse i really hate. / him because he is\n",
      "\n",
      "\n",
      "2: topic9 = i havent seen the. /  moon in a while its starting. / to cut it all down\n",
      "\n",
      "\n"
     ]
    },
    {
     "name": "stderr",
     "output_type": "stream",
     "text": [
      "The attention mask and the pad token id were not set. As a consequence, you may observe unexpected behavior. Please pass your input's `attention_mask` to obtain reliable results.\n",
      "Setting `pad_token_id` to `eos_token_id`:50256 for open-end generation.\n"
     ]
    },
    {
     "name": "stdout",
     "output_type": "stream",
     "text": [
      "0: topic10 = why do i get it. /  up even though its good cause. / it makes no worse sense\n",
      "\n",
      "\n",
      "1: topic10 = i hate being home. /  at that party but im. / like i hate myself\n",
      "\n",
      "\n",
      "2: topic10 = people tell me they. /  dont even know i really. / wanna say something\n",
      "\n",
      "\n"
     ]
    },
    {
     "name": "stderr",
     "output_type": "stream",
     "text": [
      "The attention mask and the pad token id were not set. As a consequence, you may observe unexpected behavior. Please pass your input's `attention_mask` to obtain reliable results.\n",
      "Setting `pad_token_id` to `eos_token_id`:50256 for open-end generation.\n"
     ]
    },
    {
     "name": "stdout",
     "output_type": "stream",
     "text": [
      "0: topic11 = someone tell me why. /  my entire life has started. / crying me out to me\n",
      "\n",
      "\n",
      "1: topic11 = i cant take my. /  ass to work today if im. / sick of having myself\n",
      "\n",
      "\n",
      "2: topic11 = they are all the time. /  to see the fuck outta me. / like this is the whole thread\n",
      "\n",
      "\n"
     ]
    },
    {
     "name": "stderr",
     "output_type": "stream",
     "text": [
      "The attention mask and the pad token id were not set. As a consequence, you may observe unexpected behavior. Please pass your input's `attention_mask` to obtain reliable results.\n",
      "Setting `pad_token_id` to `eos_token_id`:50256 for open-end generation.\n"
     ]
    },
    {
     "name": "stdout",
     "output_type": "stream",
     "text": [
      "0: topic12 = sometimes i feel like. /  i have to learn how to act. / like i dont remember\n",
      "\n",
      "\n",
      "1: topic12 = we had a pretty. /  day and i want a day of. / work for the next day\n",
      "\n",
      "\n",
      "2: topic12 = when you should be writing. /  in your messages to. / your own entire\n",
      "\n",
      "\n"
     ]
    },
    {
     "name": "stderr",
     "output_type": "stream",
     "text": [
      "The attention mask and the pad token id were not set. As a consequence, you may observe unexpected behavior. Please pass your input's `attention_mask` to obtain reliable results.\n",
      "Setting `pad_token_id` to `eos_token_id`:50256 for open-end generation.\n"
     ]
    },
    {
     "name": "stdout",
     "output_type": "stream",
     "text": [
      "0: topic13 = so i am tired. /  at all im just so ready. / to go back to school\n",
      "\n",
      "\n",
      "1: topic13 = i dont need to pray. /  for anyone but aint. / been a while i need\n",
      "\n",
      "\n",
      "2: topic13 = you gotta trust someone. /  who loves you and trust you. / or deserve it too\n",
      "\n",
      "\n"
     ]
    },
    {
     "name": "stderr",
     "output_type": "stream",
     "text": [
      "The attention mask and the pad token id were not set. As a consequence, you may observe unexpected behavior. Please pass your input's `attention_mask` to obtain reliable results.\n",
      "Setting `pad_token_id` to `eos_token_id`:50256 for open-end generation.\n"
     ]
    },
    {
     "name": "stdout",
     "output_type": "stream",
     "text": [
      "0: topic14 = i honestly dont. /  know how much this is the truth. / this is in the past\n",
      "\n",
      "\n",
      "1: topic14 = a girl should never. /  be ready to be an. / amazing woman\n",
      "\n",
      "\n",
      "2: topic14 = this world will be. /  such a sweet mood and i could. / have never meant it\n",
      "\n",
      "\n",
      "0: topic15 = im thinking about. /  not having a haircut and. / im still saying yes\n",
      "\n",
      "\n",
      "1: topic15 = a boy can tell you. /  when you give something about. / you like i wasnt\n",
      "\n",
      "\n",
      "2: topic15 = sometimes the biggest. /  thing you ever get to do. / when you dont want to\n",
      "\n",
      "\n"
     ]
    }
   ],
   "source": [
    "device = torch.device(\"cuda\" if torch.cuda.is_available() else \"cpu\")\n",
    "\n",
    "model = model.to(device)\n",
    "\n",
    "# create text generation seed promp\n",
    "prompts = df.columns[6:21].astype(str).to_numpy().tolist()\n",
    "for prompt in prompts:\n",
    "    generated = torch.tensor(tokenizer.encode(prompt)).unsqueeze(0)\n",
    "    generated = generated.to(device)\n",
    "\n",
    "    sample_outputs = model.generate(\n",
    "                                    generated,\n",
    "                                    do_sample=True,\n",
    "                                    top_k=50,\n",
    "                                    max_length=max_length,\n",
    "                                    top_p=0.95,\n",
    "                                    num_return_sequences=3\n",
    "                                    )\n",
    "\n",
    "    # print(tokenizer.decode(sample_outputs[0], skip_special_tokens=True))\n",
    "\n",
    "    for i, sample_output in enumerate(sample_outputs):\n",
    "        print(\"{}: {}\\n\\n\".format(i, tokenizer.decode(sample_output, skip_special_tokens=True)))"
   ]
  },
  {
   "cell_type": "code",
   "execution_count": null,
   "id": "599b7eec",
   "metadata": {
    "id": "599b7eec"
   },
   "outputs": [],
   "source": []
  }
 ],
 "metadata": {
  "accelerator": "GPU",
  "colab": {
   "gpuType": "T4",
   "provenance": []
  },
  "kernelspec": {
   "display_name": "Python 3 (ipykernel)",
   "language": "python",
   "name": "python3"
  },
  "language_info": {
   "codemirror_mode": {
    "name": "ipython",
    "version": 3
   },
   "file_extension": ".py",
   "mimetype": "text/x-python",
   "name": "python",
   "nbconvert_exporter": "python",
   "pygments_lexer": "ipython3",
   "version": "3.11.4"
  }
 },
 "nbformat": 4,
 "nbformat_minor": 5
}
